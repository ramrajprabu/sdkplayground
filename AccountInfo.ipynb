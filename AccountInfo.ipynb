{
  "cells": [
    {
      "cell_type": "code",
      "source": [
        "using System;\r\n",
        "using Microsoft.Azure.Cosmos;\r\n",
        "using System.Collections;\r\n",
        "using System.Net;\r\n",
        "\r\n",
        "CosmosClientOptions cosmosClientOptions = new CosmosClientOptions();\r\n",
        "// Initialize a new instance of CosmosClient using the built-in account endpoint and key parameters\r\n",
        "CosmosClient cosmosClient = new CosmosClient(Cosmos.Endpoint, Cosmos.Key, cosmosClientOptions);\r\n",
        "var account = await cosmosClient.ReadAccountAsync();\r\n",
        "account"
      ],
      "outputs": [
        {
          "output_type": "execute_result",
          "execution_count": 1,
          "data": {
            "text/plain": "Microsoft.Azure.Cosmos.AccountProperties",
            "application/json": {
              "data": {
                "id": "ramrajb-westcentralus-westcentralus",
                "_rid": "ramrajb-westcentralus-westcentralus.sql.cosmos.azure.com",
                "writableLocations": [
                  {
                    "name": "West Central US",
                    "databaseAccountEndpoint": "https://ramrajb-westcentralus-westcentralus.documents.azure.com:443/"
                  }
                ],
                "readableLocations": [
                  {
                    "name": "West Central US",
                    "databaseAccountEndpoint": "https://ramrajb-westcentralus-westcentralus.documents.azure.com:443/"
                  }
                ],
                "userConsistencyPolicy": {
                  "defaultConsistencyLevel": "Session",
                  "maxStalenessPrefix": 0,
                  "maxIntervalInSeconds": 0
                },
                "addresses": "//addresses/",
                "userReplicationPolicy": {
                  "MaxReplicaSetSize": 4,
                  "MinReplicaSetSize": 3,
                  "AsyncReplication": false
                },
                "systemReplicationPolicy": {
                  "MaxReplicaSetSize": 4,
                  "MinReplicaSetSize": 3,
                  "AsyncReplication": false
                },
                "readPolicy": {
                  "primaryReadCoefficient": 1,
                  "secondaryReadCoefficient": 1
                },
                "queryEngineConfiguration": "{\"maxSqlQueryInputLength\":262144,\"maxJoinsPerSqlQuery\":5,\"maxLogicalAndPerSqlQuery\":500,\"maxLogicalOrPerSqlQuery\":500,\"maxUdfRefPerSqlQuery\":10,\"maxInExpressionItemsCount\":16000,\"queryMaxInMemorySortDocumentCount\":500,\"maxQueryRequestTimeoutFraction\":0.9,\"sqlAllowNonFiniteNumbers\":false,\"sqlAllowAggregateFunctions\":true,\"sqlAllowSubQuery\":true,\"sqlAllowScalarSubQuery\":true,\"allowNewKeywords\":true,\"sqlAllowLike\":true,\"sqlAllowGroupByClause\":true,\"maxSpatialQueryCells\":12,\"spatialMaxGeometryPointCount\":256,\"sqlDisableOptimizationFlags\":0,\"sqlAllowTop\":true,\"enableSpatialIndexing\":true}",
                "enableMultipleWriteLocations": false
              }
            }
          },
          "metadata": {}
        }
      ],
      "execution_count": 1,
      "metadata": {
        "collapsed": true,
        "execution": {
          "iopub.status.busy": "2021-11-03T05:10:08.011Z",
          "iopub.status.idle": "2021-11-03T05:10:09.573Z",
          "shell.execute_reply": "2021-11-03T05:10:09.586Z"
        },
        "jupyter": {
          "outputs_hidden": false,
          "source_hidden": false
        },
        "nteract": {
          "transient": {
            "deleting": false
          }
        },
        "trusted": false
      },
      "id": "34107906-c137-49ac-af06-7cfbe98b5355"
    },
    {
      "cell_type": "code",
      "source": [
        "account.ReadableRegions"
      ],
      "outputs": [
        {
          "output_type": "execute_result",
          "execution_count": 2,
          "data": {
            "text/plain": "System.Collections.ObjectModel.Collection`1[Microsoft.Azure.Cosmos.AccountRegion]",
            "application/vnd.dataresource+json": {
              "data": [
                {
                  "name": "West Central US",
                  "databaseAccountEndpoint": "https://ramrajb-westcentralus-westcentralus.documents.azure.com:443/",
                  "index": 0
                }
              ],
              "schema": {
                "fields": [
                  {
                    "name": "index",
                    "type": "integer"
                  },
                  {
                    "name": "name",
                    "type": "string"
                  },
                  {
                    "name": "databaseAccountEndpoint",
                    "type": "string"
                  }
                ],
                "primaryKey": [
                  "index"
                ]
              }
            }
          },
          "metadata": {
            "application/vnd.dataresource+json": {
              "dx": {
                "summaryType": "violin",
                "marginalGraphics": "none",
                "view": "grid",
                "areaType": "hexbin",
                "selectedDimensions": [
                  "name"
                ],
                "selectedMetrics": [],
                "networkType": "force",
                "pieceType": "bar",
                "lineType": "line",
                "hierarchyType": "dendrogram",
                "colors": [
                  "#DA752E",
                  "#E5C209",
                  "#1441A0",
                  "#B86117",
                  "#4D430C",
                  "#1DB390",
                  "#B3331D",
                  "#088EB2",
                  "#417505",
                  "#E479A8",
                  "#F9F39E",
                  "#5782DC",
                  "#EBA97B",
                  "#A2AB60",
                  "#B291CF",
                  "#8DD2C2",
                  "#E6A19F",
                  "#3DC7E0",
                  "#98CE5B"
                ],
                "trendLine": "none",
                "barGrouping": "Clustered",
                "chart": {
                  "metric1": "none",
                  "metric2": "none",
                  "timeseriesSort": "array-order",
                  "metric3": "none",
                  "metric4": "none",
                  "networkLabel": "none",
                  "dim1": "name",
                  "dim2": "databaseAccountEndpoint",
                  "dim3": "none"
                }
              }
            }
          }
        }
      ],
      "execution_count": 2,
      "metadata": {
        "collapsed": true,
        "execution": {
          "iopub.status.busy": "2021-11-03T05:10:13.460Z",
          "iopub.status.idle": "2021-11-03T05:10:13.599Z",
          "shell.execute_reply": "2021-11-03T05:10:13.607Z"
        },
        "jupyter": {
          "outputs_hidden": false,
          "source_hidden": false
        },
        "nteract": {
          "transient": {
            "deleting": false
          }
        },
        "trusted": false
      },
      "id": "798b4048-52d1-44f9-9c2e-1432deaefe8d"
    },
    {
      "cell_type": "code",
      "source": [
        "account.WritableRegions"
      ],
      "outputs": [
        {
          "output_type": "execute_result",
          "execution_count": 3,
          "data": {
            "text/plain": "System.Collections.ObjectModel.Collection`1[Microsoft.Azure.Cosmos.AccountRegion]",
            "application/vnd.dataresource+json": {
              "data": [
                {
                  "name": "West Central US",
                  "databaseAccountEndpoint": "https://ramrajb-westcentralus-westcentralus.documents.azure.com:443/",
                  "index": 0
                }
              ],
              "schema": {
                "fields": [
                  {
                    "name": "index",
                    "type": "integer"
                  },
                  {
                    "name": "name",
                    "type": "string"
                  },
                  {
                    "name": "databaseAccountEndpoint",
                    "type": "string"
                  }
                ],
                "primaryKey": [
                  "index"
                ]
              }
            }
          },
          "metadata": {
            "application/vnd.dataresource+json": {
              "dx": {
                "summaryType": "violin",
                "marginalGraphics": "none",
                "view": "grid",
                "areaType": "hexbin",
                "selectedDimensions": [
                  "name"
                ],
                "selectedMetrics": [],
                "networkType": "force",
                "pieceType": "bar",
                "lineType": "line",
                "hierarchyType": "dendrogram",
                "colors": [
                  "#DA752E",
                  "#E5C209",
                  "#1441A0",
                  "#B86117",
                  "#4D430C",
                  "#1DB390",
                  "#B3331D",
                  "#088EB2",
                  "#417505",
                  "#E479A8",
                  "#F9F39E",
                  "#5782DC",
                  "#EBA97B",
                  "#A2AB60",
                  "#B291CF",
                  "#8DD2C2",
                  "#E6A19F",
                  "#3DC7E0",
                  "#98CE5B"
                ],
                "trendLine": "none",
                "barGrouping": "Clustered",
                "chart": {
                  "metric1": "none",
                  "metric2": "none",
                  "timeseriesSort": "array-order",
                  "metric3": "none",
                  "metric4": "none",
                  "networkLabel": "none",
                  "dim1": "name",
                  "dim2": "databaseAccountEndpoint",
                  "dim3": "none"
                }
              }
            }
          }
        }
      ],
      "execution_count": 3,
      "metadata": {
        "collapsed": true,
        "execution": {
          "iopub.status.busy": "2021-11-03T05:10:17.319Z",
          "iopub.status.idle": "2021-11-03T05:10:17.437Z",
          "shell.execute_reply": "2021-11-03T05:10:17.447Z"
        },
        "jupyter": {
          "outputs_hidden": false,
          "source_hidden": false
        },
        "nteract": {
          "transient": {
            "deleting": false
          }
        },
        "trusted": false
      },
      "id": "efb9447d-4e03-4a19-a86f-54291c9ab4b1"
    }
  ],
  "metadata": {
    "kernelspec": {
      "displayName": "CSharp",
      "language": "csharp",
      "name": "csharp"
    },
    "language_info": {
      "name": "csharp",
      "version": "7.3",
      "mimetype": "application/json",
      "file_extension": "ipynb",
      "codemirror_mode": "text/x-csharp"
    },
    "nteract": {
      "version": "dataExplorer 1.0"
    }
  },
  "nbformat": 4,
  "nbformat_minor": 5
}