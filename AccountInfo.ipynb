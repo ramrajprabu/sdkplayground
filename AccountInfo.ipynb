{
  "cells": [
    {
      "cell_type": "code",
      "source": [
        "using System;\r\n",
        "using Microsoft.Azure.Cosmos;\r\n",
        "using System.Collections;\r\n",
        "using System.Net;\r\n",
        "\r\n",
        "CosmosClientOptions cosmosClientOptions = new CosmosClientOptions();\r\n",
        "// Initialize a new instance of CosmosClient using the built-in account endpoint and key parameters\r\n",
        "CosmosClient cosmosClient = new CosmosClient(Cosmos.Endpoint, Cosmos.Key, cosmosClientOptions);\r\n",
        "var account = await cosmosClient.ReadAccountAsync();\r\n",
        "account"
      ],
      "outputs": [
        {
          "output_type": "execute_result",
          "execution_count": 10,
          "data": {
            "application/json": {
              "data": {
                "_rid": "ramrajb-sdk-samples.documents.azure.com",
                "addresses": "//addresses/",
                "enableMultipleWriteLocations": false,
                "id": "ramrajb-sdk-samples",
                "queryEngineConfiguration": "{\"maxSqlQueryInputLength\":262144,\"maxJoinsPerSqlQuery\":5,\"maxLogicalAndPerSqlQuery\":500,\"maxLogicalOrPerSqlQuery\":500,\"maxUdfRefPerSqlQuery\":10,\"maxInExpressionItemsCount\":16000,\"queryMaxInMemorySortDocumentCount\":500,\"maxQueryRequestTimeoutFraction\":0.9,\"sqlAllowNonFiniteNumbers\":false,\"sqlAllowAggregateFunctions\":true,\"sqlAllowSubQuery\":true,\"sqlAllowScalarSubQuery\":true,\"allowNewKeywords\":true,\"sqlAllowLike\":true,\"sqlAllowGroupByClause\":true,\"maxSpatialQueryCells\":12,\"spatialMaxGeometryPointCount\":256,\"sqlDisableQueryILOptimization\":false,\"sqlAllowTop\":true,\"enableSpatialIndexing\":true}",
                "readPolicy": {
                  "primaryReadCoefficient": 1,
                  "secondaryReadCoefficient": 1
                },
                "readableLocations": [
                  {
                    "databaseAccountEndpoint": "https://ramrajb-sdk-samples-westus2.documents.azure.com:443/",
                    "name": "West US 2"
                  },
                  {
                    "databaseAccountEndpoint": "https://ramrajb-sdk-samples-eastus2.documents.azure.com:443/",
                    "name": "East US 2"
                  }
                ],
                "systemReplicationPolicy": {
                  "AsyncReplication": false,
                  "MaxReplicaSetSize": 4,
                  "MinReplicaSetSize": 3
                },
                "userConsistencyPolicy": {
                  "defaultConsistencyLevel": "Session",
                  "maxIntervalInSeconds": 0,
                  "maxStalenessPrefix": 0
                },
                "userReplicationPolicy": {
                  "AsyncReplication": false,
                  "MaxReplicaSetSize": 4,
                  "MinReplicaSetSize": 3
                },
                "writableLocations": [
                  {
                    "databaseAccountEndpoint": "https://ramrajb-sdk-samples-westus2.documents.azure.com:443/",
                    "name": "West US 2"
                  }
                ]
              }
            },
            "text/plain": "Microsoft.Azure.Cosmos.AccountProperties"
          },
          "metadata": {}
        }
      ],
      "execution_count": 10,
      "metadata": {
        "collapsed": true,
        "execution": {
          "iopub.status.busy": "2021-03-09T09:48:14.144Z",
          "iopub.status.idle": "2021-03-09T09:48:14.337Z",
          "shell.execute_reply": "2021-03-09T09:48:14.345Z"
        },
        "jupyter": {
          "outputs_hidden": false,
          "source_hidden": false
        },
        "nteract": {
          "transient": {
            "deleting": false
          }
        },
        "trusted": false
      },
      "id": "34107906-c137-49ac-af06-7cfbe98b5355"
    },
    {
      "cell_type": "code",
      "source": [
        "account.ReadableRegions"
      ],
      "outputs": [
        {
          "output_type": "execute_result",
          "execution_count": 15,
          "data": {
            "application/vnd.dataresource+json": {
              "data": [
                {
                  "databaseAccountEndpoint": "https://ramrajb-sdk-samples-westus2.documents.azure.com:443/",
                  "index": 0,
                  "name": "West US 2"
                },
                {
                  "databaseAccountEndpoint": "https://ramrajb-sdk-samples-eastus2.documents.azure.com:443/",
                  "index": 1,
                  "name": "East US 2"
                }
              ],
              "schema": {
                "fields": [
                  {
                    "name": "index",
                    "type": "integer"
                  },
                  {
                    "name": "name",
                    "type": "string"
                  },
                  {
                    "name": "databaseAccountEndpoint",
                    "type": "string"
                  }
                ],
                "primaryKey": [
                  "index"
                ]
              }
            },
            "text/plain": "System.Collections.ObjectModel.Collection`1[Microsoft.Azure.Cosmos.AccountRegion]"
          },
          "metadata": {
            "application/vnd.dataresource+json": {
              "size": 4,
              "_root": {
                "ownerID": {},
                "entries": [
                  [
                    "size",
                    4
                  ],
                  [
                    "_root",
                    {
                      "ownerID": {},
                      "entries": [
                        [
                          "__altered",
                          false
                        ],
                        [
                          "_root",
                          {
                            "entries": [
                              [
                                "size",
                                6
                              ],
                              [
                                "_root",
                                {
                                  "entries": [
                                    [
                                      "size",
                                      6
                                    ],
                                    [
                                      "_root",
                                      {
                                        "entries": [
                                          [
                                            "size",
                                            6
                                          ],
                                          [
                                            "_root",
                                            {
                                              "entries": [
                                                [
                                                  "size",
                                                  6
                                                ],
                                                [
                                                  "_root",
                                                  {
                                                    "entries": [
                                                      [
                                                        "size",
                                                        6
                                                      ],
                                                      [
                                                        "_root",
                                                        {
                                                          "entries": [
                                                            [
                                                              "size",
                                                              6
                                                            ],
                                                            [
                                                              "_root",
                                                              {
                                                                "entries": [
                                                                  [
                                                                    "size",
                                                                    6
                                                                  ],
                                                                  [
                                                                    "_root",
                                                                    {
                                                                      "entries": [
                                                                        [
                                                                          "size",
                                                                          1
                                                                        ],
                                                                        [
                                                                          "_root",
                                                                          {
                                                                            "entries": [
                                                                              [
                                                                                "dx",
                                                                                {
                                                                                  "summaryType": "violin",
                                                                                  "marginalGraphics": "none",
                                                                                  "view": "grid",
                                                                                  "areaType": "hexbin",
                                                                                  "selectedDimensions": [
                                                                                    "name"
                                                                                  ],
                                                                                  "selectedMetrics": [],
                                                                                  "networkType": "force",
                                                                                  "pieceType": "bar",
                                                                                  "lineType": "line",
                                                                                  "hierarchyType": "dendrogram",
                                                                                  "colors": [
                                                                                    "#DA752E",
                                                                                    "#E5C209",
                                                                                    "#1441A0",
                                                                                    "#B86117",
                                                                                    "#4D430C",
                                                                                    "#1DB390",
                                                                                    "#B3331D",
                                                                                    "#088EB2",
                                                                                    "#417505",
                                                                                    "#E479A8",
                                                                                    "#F9F39E",
                                                                                    "#5782DC",
                                                                                    "#EBA97B",
                                                                                    "#A2AB60",
                                                                                    "#B291CF",
                                                                                    "#8DD2C2",
                                                                                    "#E6A19F",
                                                                                    "#3DC7E0",
                                                                                    "#98CE5B"
                                                                                  ],
                                                                                  "trendLine": "none",
                                                                                  "barGrouping": "Clustered",
                                                                                  "chart": {
                                                                                    "metric1": "none",
                                                                                    "metric2": "none",
                                                                                    "timeseriesSort": "array-order",
                                                                                    "metric3": "none",
                                                                                    "metric4": "none",
                                                                                    "networkLabel": "none",
                                                                                    "dim1": "name",
                                                                                    "dim2": "databaseAccountEndpoint",
                                                                                    "dim3": "none"
                                                                                  }
                                                                                }
                                                                              ]
                                                                            ],
                                                                            "ownerID": {}
                                                                          }
                                                                        ],
                                                                        [
                                                                          "__ownerID",
                                                                          null
                                                                        ],
                                                                        [
                                                                          "__hash",
                                                                          null
                                                                        ],
                                                                        [
                                                                          "__altered",
                                                                          false
                                                                        ],
                                                                        [
                                                                          "dx",
                                                                          {
                                                                            "summaryType": "violin",
                                                                            "marginalGraphics": "none",
                                                                            "view": "bar",
                                                                            "areaType": "hexbin",
                                                                            "selectedDimensions": [
                                                                              "name"
                                                                            ],
                                                                            "selectedMetrics": [],
                                                                            "networkType": "force",
                                                                            "pieceType": "bar",
                                                                            "lineType": "line",
                                                                            "hierarchyType": "dendrogram",
                                                                            "colors": [
                                                                              "#DA752E",
                                                                              "#E5C209",
                                                                              "#1441A0",
                                                                              "#B86117",
                                                                              "#4D430C",
                                                                              "#1DB390",
                                                                              "#B3331D",
                                                                              "#088EB2",
                                                                              "#417505",
                                                                              "#E479A8",
                                                                              "#F9F39E",
                                                                              "#5782DC",
                                                                              "#EBA97B",
                                                                              "#A2AB60",
                                                                              "#B291CF",
                                                                              "#8DD2C2",
                                                                              "#E6A19F",
                                                                              "#3DC7E0",
                                                                              "#98CE5B"
                                                                            ],
                                                                            "trendLine": "none",
                                                                            "barGrouping": "Clustered",
                                                                            "chart": {
                                                                              "metric1": "none",
                                                                              "metric2": "none",
                                                                              "timeseriesSort": "array-order",
                                                                              "metric3": "none",
                                                                              "metric4": "none",
                                                                              "networkLabel": "none",
                                                                              "dim1": "name",
                                                                              "dim2": "databaseAccountEndpoint",
                                                                              "dim3": "none"
                                                                            }
                                                                          }
                                                                        ]
                                                                      ],
                                                                      "ownerID": {}
                                                                    }
                                                                  ],
                                                                  [
                                                                    "__ownerID",
                                                                    null
                                                                  ],
                                                                  [
                                                                    "__hash",
                                                                    null
                                                                  ],
                                                                  [
                                                                    "__altered",
                                                                    false
                                                                  ],
                                                                  [
                                                                    "dx",
                                                                    {
                                                                      "summaryType": "violin",
                                                                      "marginalGraphics": "none",
                                                                      "view": "summary",
                                                                      "areaType": "hexbin",
                                                                      "selectedDimensions": [
                                                                        "name"
                                                                      ],
                                                                      "selectedMetrics": [],
                                                                      "networkType": "force",
                                                                      "pieceType": "bar",
                                                                      "lineType": "line",
                                                                      "hierarchyType": "dendrogram",
                                                                      "colors": [
                                                                        "#DA752E",
                                                                        "#E5C209",
                                                                        "#1441A0",
                                                                        "#B86117",
                                                                        "#4D430C",
                                                                        "#1DB390",
                                                                        "#B3331D",
                                                                        "#088EB2",
                                                                        "#417505",
                                                                        "#E479A8",
                                                                        "#F9F39E",
                                                                        "#5782DC",
                                                                        "#EBA97B",
                                                                        "#A2AB60",
                                                                        "#B291CF",
                                                                        "#8DD2C2",
                                                                        "#E6A19F",
                                                                        "#3DC7E0",
                                                                        "#98CE5B"
                                                                      ],
                                                                      "trendLine": "none",
                                                                      "barGrouping": "Clustered",
                                                                      "chart": {
                                                                        "metric1": "none",
                                                                        "metric2": "none",
                                                                        "timeseriesSort": "array-order",
                                                                        "metric3": "none",
                                                                        "metric4": "none",
                                                                        "networkLabel": "none",
                                                                        "dim1": "name",
                                                                        "dim2": "databaseAccountEndpoint",
                                                                        "dim3": "none"
                                                                      }
                                                                    }
                                                                  ]
                                                                ],
                                                                "ownerID": {}
                                                              }
                                                            ],
                                                            [
                                                              "__ownerID",
                                                              null
                                                            ],
                                                            [
                                                              "__hash",
                                                              null
                                                            ],
                                                            [
                                                              "__altered",
                                                              false
                                                            ],
                                                            [
                                                              "dx",
                                                              {
                                                                "summaryType": "violin",
                                                                "marginalGraphics": "none",
                                                                "view": "scatter",
                                                                "areaType": "hexbin",
                                                                "selectedDimensions": [
                                                                  "name"
                                                                ],
                                                                "selectedMetrics": [],
                                                                "networkType": "force",
                                                                "pieceType": "bar",
                                                                "lineType": "line",
                                                                "hierarchyType": "dendrogram",
                                                                "colors": [
                                                                  "#DA752E",
                                                                  "#E5C209",
                                                                  "#1441A0",
                                                                  "#B86117",
                                                                  "#4D430C",
                                                                  "#1DB390",
                                                                  "#B3331D",
                                                                  "#088EB2",
                                                                  "#417505",
                                                                  "#E479A8",
                                                                  "#F9F39E",
                                                                  "#5782DC",
                                                                  "#EBA97B",
                                                                  "#A2AB60",
                                                                  "#B291CF",
                                                                  "#8DD2C2",
                                                                  "#E6A19F",
                                                                  "#3DC7E0",
                                                                  "#98CE5B"
                                                                ],
                                                                "trendLine": "none",
                                                                "barGrouping": "Clustered",
                                                                "chart": {
                                                                  "metric1": "none",
                                                                  "metric2": "none",
                                                                  "timeseriesSort": "array-order",
                                                                  "metric3": "none",
                                                                  "metric4": "none",
                                                                  "networkLabel": "none",
                                                                  "dim1": "name",
                                                                  "dim2": "databaseAccountEndpoint",
                                                                  "dim3": "none"
                                                                }
                                                              }
                                                            ]
                                                          ],
                                                          "ownerID": {}
                                                        }
                                                      ],
                                                      [
                                                        "__ownerID",
                                                        null
                                                      ],
                                                      [
                                                        "__hash",
                                                        null
                                                      ],
                                                      [
                                                        "__altered",
                                                        false
                                                      ],
                                                      [
                                                        "dx",
                                                        {
                                                          "summaryType": "violin",
                                                          "marginalGraphics": "none",
                                                          "view": "hexbin",
                                                          "areaType": "hexbin",
                                                          "selectedDimensions": [
                                                            "name"
                                                          ],
                                                          "selectedMetrics": [],
                                                          "networkType": "force",
                                                          "pieceType": "bar",
                                                          "lineType": "line",
                                                          "hierarchyType": "dendrogram",
                                                          "colors": [
                                                            "#DA752E",
                                                            "#E5C209",
                                                            "#1441A0",
                                                            "#B86117",
                                                            "#4D430C",
                                                            "#1DB390",
                                                            "#B3331D",
                                                            "#088EB2",
                                                            "#417505",
                                                            "#E479A8",
                                                            "#F9F39E",
                                                            "#5782DC",
                                                            "#EBA97B",
                                                            "#A2AB60",
                                                            "#B291CF",
                                                            "#8DD2C2",
                                                            "#E6A19F",
                                                            "#3DC7E0",
                                                            "#98CE5B"
                                                          ],
                                                          "trendLine": "none",
                                                          "barGrouping": "Clustered",
                                                          "chart": {
                                                            "metric1": "none",
                                                            "metric2": "none",
                                                            "timeseriesSort": "array-order",
                                                            "metric3": "none",
                                                            "metric4": "none",
                                                            "networkLabel": "none",
                                                            "dim1": "name",
                                                            "dim2": "databaseAccountEndpoint",
                                                            "dim3": "none"
                                                          }
                                                        }
                                                      ]
                                                    ],
                                                    "ownerID": {}
                                                  }
                                                ],
                                                [
                                                  "__ownerID",
                                                  null
                                                ],
                                                [
                                                  "__hash",
                                                  null
                                                ],
                                                [
                                                  "__altered",
                                                  false
                                                ],
                                                [
                                                  "dx",
                                                  {
                                                    "summaryType": "violin",
                                                    "marginalGraphics": "none",
                                                    "view": "network",
                                                    "areaType": "hexbin",
                                                    "selectedDimensions": [
                                                      "name"
                                                    ],
                                                    "selectedMetrics": [],
                                                    "networkType": "force",
                                                    "pieceType": "bar",
                                                    "lineType": "line",
                                                    "hierarchyType": "dendrogram",
                                                    "colors": [
                                                      "#DA752E",
                                                      "#E5C209",
                                                      "#1441A0",
                                                      "#B86117",
                                                      "#4D430C",
                                                      "#1DB390",
                                                      "#B3331D",
                                                      "#088EB2",
                                                      "#417505",
                                                      "#E479A8",
                                                      "#F9F39E",
                                                      "#5782DC",
                                                      "#EBA97B",
                                                      "#A2AB60",
                                                      "#B291CF",
                                                      "#8DD2C2",
                                                      "#E6A19F",
                                                      "#3DC7E0",
                                                      "#98CE5B"
                                                    ],
                                                    "trendLine": "none",
                                                    "barGrouping": "Clustered",
                                                    "chart": {
                                                      "metric1": "none",
                                                      "metric2": "none",
                                                      "timeseriesSort": "array-order",
                                                      "metric3": "none",
                                                      "metric4": "none",
                                                      "networkLabel": "none",
                                                      "dim1": "name",
                                                      "dim2": "databaseAccountEndpoint",
                                                      "dim3": "none"
                                                    }
                                                  }
                                                ]
                                              ],
                                              "ownerID": {}
                                            }
                                          ],
                                          [
                                            "__ownerID",
                                            null
                                          ],
                                          [
                                            "__hash",
                                            null
                                          ],
                                          [
                                            "__altered",
                                            false
                                          ],
                                          [
                                            "dx",
                                            {
                                              "summaryType": "violin",
                                              "marginalGraphics": "none",
                                              "view": "hierarchy",
                                              "areaType": "hexbin",
                                              "selectedDimensions": [
                                                "name"
                                              ],
                                              "selectedMetrics": [],
                                              "networkType": "force",
                                              "pieceType": "bar",
                                              "lineType": "line",
                                              "hierarchyType": "dendrogram",
                                              "colors": [
                                                "#DA752E",
                                                "#E5C209",
                                                "#1441A0",
                                                "#B86117",
                                                "#4D430C",
                                                "#1DB390",
                                                "#B3331D",
                                                "#088EB2",
                                                "#417505",
                                                "#E479A8",
                                                "#F9F39E",
                                                "#5782DC",
                                                "#EBA97B",
                                                "#A2AB60",
                                                "#B291CF",
                                                "#8DD2C2",
                                                "#E6A19F",
                                                "#3DC7E0",
                                                "#98CE5B"
                                              ],
                                              "trendLine": "none",
                                              "barGrouping": "Clustered",
                                              "chart": {
                                                "metric1": "none",
                                                "metric2": "none",
                                                "timeseriesSort": "array-order",
                                                "metric3": "none",
                                                "metric4": "none",
                                                "networkLabel": "none",
                                                "dim1": "name",
                                                "dim2": "databaseAccountEndpoint",
                                                "dim3": "none"
                                              }
                                            }
                                          ]
                                        ],
                                        "ownerID": {}
                                      }
                                    ],
                                    [
                                      "__ownerID",
                                      null
                                    ],
                                    [
                                      "__hash",
                                      null
                                    ],
                                    [
                                      "__altered",
                                      false
                                    ],
                                    [
                                      "dx",
                                      {
                                        "summaryType": "violin",
                                        "marginalGraphics": "none",
                                        "view": "parallel",
                                        "areaType": "hexbin",
                                        "selectedDimensions": [
                                          "name"
                                        ],
                                        "selectedMetrics": [],
                                        "networkType": "force",
                                        "pieceType": "bar",
                                        "lineType": "line",
                                        "hierarchyType": "dendrogram",
                                        "colors": [
                                          "#DA752E",
                                          "#E5C209",
                                          "#1441A0",
                                          "#B86117",
                                          "#4D430C",
                                          "#1DB390",
                                          "#B3331D",
                                          "#088EB2",
                                          "#417505",
                                          "#E479A8",
                                          "#F9F39E",
                                          "#5782DC",
                                          "#EBA97B",
                                          "#A2AB60",
                                          "#B291CF",
                                          "#8DD2C2",
                                          "#E6A19F",
                                          "#3DC7E0",
                                          "#98CE5B"
                                        ],
                                        "trendLine": "none",
                                        "barGrouping": "Clustered",
                                        "chart": {
                                          "metric1": "none",
                                          "metric2": "none",
                                          "timeseriesSort": "array-order",
                                          "metric3": "none",
                                          "metric4": "none",
                                          "networkLabel": "none",
                                          "dim1": "name",
                                          "dim2": "databaseAccountEndpoint",
                                          "dim3": "none"
                                        }
                                      }
                                    ]
                                  ],
                                  "ownerID": {}
                                }
                              ],
                              [
                                "__ownerID",
                                null
                              ],
                              [
                                "__hash",
                                null
                              ],
                              [
                                "__altered",
                                false
                              ],
                              [
                                "dx",
                                {
                                  "summaryType": "violin",
                                  "marginalGraphics": "none",
                                  "view": "grid",
                                  "areaType": "hexbin",
                                  "selectedDimensions": [
                                    "name"
                                  ],
                                  "selectedMetrics": [],
                                  "networkType": "force",
                                  "pieceType": "bar",
                                  "lineType": "line",
                                  "hierarchyType": "dendrogram",
                                  "colors": [
                                    "#DA752E",
                                    "#E5C209",
                                    "#1441A0",
                                    "#B86117",
                                    "#4D430C",
                                    "#1DB390",
                                    "#B3331D",
                                    "#088EB2",
                                    "#417505",
                                    "#E479A8",
                                    "#F9F39E",
                                    "#5782DC",
                                    "#EBA97B",
                                    "#A2AB60",
                                    "#B291CF",
                                    "#8DD2C2",
                                    "#E6A19F",
                                    "#3DC7E0",
                                    "#98CE5B"
                                  ],
                                  "trendLine": "none",
                                  "barGrouping": "Clustered",
                                  "chart": {
                                    "metric1": "none",
                                    "metric2": "none",
                                    "timeseriesSort": "array-order",
                                    "metric3": "none",
                                    "metric4": "none",
                                    "networkLabel": "none",
                                    "dim1": "name",
                                    "dim2": "databaseAccountEndpoint",
                                    "dim3": "none"
                                  }
                                }
                              ]
                            ],
                            "ownerID": {}
                          }
                        ],
                        [
                          "dx",
                          {
                            "summaryType": "violin",
                            "marginalGraphics": "none",
                            "view": "grid",
                            "areaType": "hexbin",
                            "selectedDimensions": [
                              "name"
                            ],
                            "selectedMetrics": [],
                            "networkType": "force",
                            "pieceType": "bar",
                            "lineType": "line",
                            "hierarchyType": "dendrogram",
                            "colors": [
                              "#DA752E",
                              "#E5C209",
                              "#1441A0",
                              "#B86117",
                              "#4D430C",
                              "#1DB390",
                              "#B3331D",
                              "#088EB2",
                              "#417505",
                              "#E479A8",
                              "#F9F39E",
                              "#5782DC",
                              "#EBA97B",
                              "#A2AB60",
                              "#B291CF",
                              "#8DD2C2",
                              "#E6A19F",
                              "#3DC7E0",
                              "#98CE5B"
                            ],
                            "trendLine": "none",
                            "barGrouping": "Clustered",
                            "chart": {
                              "metric1": "none",
                              "metric2": "none",
                              "timeseriesSort": "array-order",
                              "metric3": "none",
                              "metric4": "none",
                              "networkLabel": "none",
                              "dim1": "name",
                              "dim2": "databaseAccountEndpoint",
                              "dim3": "none"
                            }
                          }
                        ],
                        [
                          "size",
                          6
                        ]
                      ]
                    }
                  ],
                  [
                    "__altered",
                    false
                  ],
                  [
                    "dx",
                    {
                      "summaryType": "violin",
                      "marginalGraphics": "none",
                      "view": "grid",
                      "areaType": "hexbin",
                      "selectedDimensions": [
                        "name"
                      ],
                      "selectedMetrics": [],
                      "networkType": "force",
                      "pieceType": "bar",
                      "lineType": "line",
                      "hierarchyType": "dendrogram",
                      "colors": [
                        "#DA752E",
                        "#E5C209",
                        "#1441A0",
                        "#B86117",
                        "#4D430C",
                        "#1DB390",
                        "#B3331D",
                        "#088EB2",
                        "#417505",
                        "#E479A8",
                        "#F9F39E",
                        "#5782DC",
                        "#EBA97B",
                        "#A2AB60",
                        "#B291CF",
                        "#8DD2C2",
                        "#E6A19F",
                        "#3DC7E0",
                        "#98CE5B"
                      ],
                      "trendLine": "none",
                      "barGrouping": "Clustered",
                      "chart": {
                        "metric1": "none",
                        "metric2": "none",
                        "timeseriesSort": "array-order",
                        "metric3": "none",
                        "metric4": "none",
                        "networkLabel": "none",
                        "dim1": "name",
                        "dim2": "databaseAccountEndpoint",
                        "dim3": "none"
                      }
                    }
                  ]
                ]
              },
              "__altered": false,
              "dx": {
                "summaryType": "violin",
                "marginalGraphics": "none",
                "view": "grid",
                "areaType": "hexbin",
                "selectedDimensions": [
                  "name"
                ],
                "selectedMetrics": [],
                "networkType": "force",
                "pieceType": "bar",
                "lineType": "line",
                "hierarchyType": "dendrogram",
                "colors": [
                  "#DA752E",
                  "#E5C209",
                  "#1441A0",
                  "#B86117",
                  "#4D430C",
                  "#1DB390",
                  "#B3331D",
                  "#088EB2",
                  "#417505",
                  "#E479A8",
                  "#F9F39E",
                  "#5782DC",
                  "#EBA97B",
                  "#A2AB60",
                  "#B291CF",
                  "#8DD2C2",
                  "#E6A19F",
                  "#3DC7E0",
                  "#98CE5B"
                ],
                "trendLine": "none",
                "barGrouping": "Clustered",
                "chart": {
                  "metric1": "none",
                  "metric2": "none",
                  "timeseriesSort": "array-order",
                  "metric3": "none",
                  "metric4": "none",
                  "networkLabel": "none",
                  "dim1": "name",
                  "dim2": "databaseAccountEndpoint",
                  "dim3": "none"
                }
              }
            }
          }
        }
      ],
      "execution_count": 15,
      "metadata": {
        "collapsed": true,
        "execution": {
          "iopub.status.busy": "2021-03-09T09:50:36.357Z",
          "iopub.status.idle": "2021-03-09T09:50:36.457Z",
          "shell.execute_reply": "2021-03-09T09:50:36.465Z"
        },
        "jupyter": {
          "outputs_hidden": false,
          "source_hidden": false
        },
        "nteract": {
          "transient": {
            "deleting": false
          }
        },
        "trusted": false
      },
      "id": "798b4048-52d1-44f9-9c2e-1432deaefe8d"
    },
    {
      "cell_type": "code",
      "source": [
        "account.WritableRegions"
      ],
      "outputs": [
        {
          "output_type": "execute_result",
          "execution_count": 18,
          "data": {
            "application/vnd.dataresource+json": {
              "data": [
                {
                  "databaseAccountEndpoint": "https://ramrajb-sdk-samples-westus2.documents.azure.com:443/",
                  "index": 0,
                  "name": "West US 2"
                }
              ],
              "schema": {
                "fields": [
                  {
                    "name": "index",
                    "type": "integer"
                  },
                  {
                    "name": "name",
                    "type": "string"
                  },
                  {
                    "name": "databaseAccountEndpoint",
                    "type": "string"
                  }
                ],
                "primaryKey": [
                  "index"
                ]
              }
            },
            "text/plain": "System.Collections.ObjectModel.Collection`1[Microsoft.Azure.Cosmos.AccountRegion]"
          },
          "metadata": {
            "application/vnd.dataresource+json": {
              "size": 4,
              "_root": {
                "ownerID": {},
                "entries": [
                  [
                    "size",
                    1
                  ],
                  [
                    "_root",
                    {
                      "ownerID": {},
                      "entries": [
                        [
                          "dx",
                          {
                            "summaryType": "violin",
                            "marginalGraphics": "none",
                            "view": "grid",
                            "areaType": "hexbin",
                            "selectedDimensions": [
                              "name"
                            ],
                            "selectedMetrics": [],
                            "networkType": "force",
                            "pieceType": "bar",
                            "lineType": "line",
                            "hierarchyType": "dendrogram",
                            "colors": [
                              "#DA752E",
                              "#E5C209",
                              "#1441A0",
                              "#B86117",
                              "#4D430C",
                              "#1DB390",
                              "#B3331D",
                              "#088EB2",
                              "#417505",
                              "#E479A8",
                              "#F9F39E",
                              "#5782DC",
                              "#EBA97B",
                              "#A2AB60",
                              "#B291CF",
                              "#8DD2C2",
                              "#E6A19F",
                              "#3DC7E0",
                              "#98CE5B"
                            ],
                            "trendLine": "none",
                            "barGrouping": "Clustered",
                            "chart": {
                              "metric1": "none",
                              "metric2": "none",
                              "timeseriesSort": "array-order",
                              "metric3": "none",
                              "metric4": "none",
                              "networkLabel": "none",
                              "dim1": "name",
                              "dim2": "databaseAccountEndpoint",
                              "dim3": "none"
                            }
                          }
                        ]
                      ]
                    }
                  ],
                  [
                    "__altered",
                    false
                  ],
                  [
                    "dx",
                    {
                      "summaryType": "violin",
                      "marginalGraphics": "none",
                      "view": "grid",
                      "areaType": "hexbin",
                      "selectedDimensions": [
                        "name"
                      ],
                      "selectedMetrics": [],
                      "networkType": "force",
                      "pieceType": "bar",
                      "lineType": "line",
                      "hierarchyType": "dendrogram",
                      "colors": [
                        "#DA752E",
                        "#E5C209",
                        "#1441A0",
                        "#B86117",
                        "#4D430C",
                        "#1DB390",
                        "#B3331D",
                        "#088EB2",
                        "#417505",
                        "#E479A8",
                        "#F9F39E",
                        "#5782DC",
                        "#EBA97B",
                        "#A2AB60",
                        "#B291CF",
                        "#8DD2C2",
                        "#E6A19F",
                        "#3DC7E0",
                        "#98CE5B"
                      ],
                      "trendLine": "none",
                      "barGrouping": "Clustered",
                      "chart": {
                        "metric1": "none",
                        "metric2": "none",
                        "timeseriesSort": "array-order",
                        "metric3": "none",
                        "metric4": "none",
                        "networkLabel": "none",
                        "dim1": "name",
                        "dim2": "databaseAccountEndpoint",
                        "dim3": "none"
                      }
                    }
                  ]
                ]
              },
              "__altered": false,
              "dx": {
                "summaryType": "violin",
                "marginalGraphics": "none",
                "view": "grid",
                "areaType": "hexbin",
                "selectedDimensions": [
                  "name"
                ],
                "selectedMetrics": [],
                "networkType": "force",
                "pieceType": "bar",
                "lineType": "line",
                "hierarchyType": "dendrogram",
                "colors": [
                  "#DA752E",
                  "#E5C209",
                  "#1441A0",
                  "#B86117",
                  "#4D430C",
                  "#1DB390",
                  "#B3331D",
                  "#088EB2",
                  "#417505",
                  "#E479A8",
                  "#F9F39E",
                  "#5782DC",
                  "#EBA97B",
                  "#A2AB60",
                  "#B291CF",
                  "#8DD2C2",
                  "#E6A19F",
                  "#3DC7E0",
                  "#98CE5B"
                ],
                "trendLine": "none",
                "barGrouping": "Clustered",
                "chart": {
                  "metric1": "none",
                  "metric2": "none",
                  "timeseriesSort": "array-order",
                  "metric3": "none",
                  "metric4": "none",
                  "networkLabel": "none",
                  "dim1": "name",
                  "dim2": "databaseAccountEndpoint",
                  "dim3": "none"
                }
              }
            }
          }
        }
      ],
      "execution_count": 18,
      "metadata": {
        "collapsed": true,
        "execution": {
          "iopub.status.busy": "2021-03-09T09:53:06.430Z",
          "iopub.status.idle": "2021-03-09T09:53:06.497Z",
          "shell.execute_reply": "2021-03-09T09:53:06.505Z"
        },
        "jupyter": {
          "outputs_hidden": false,
          "source_hidden": false
        },
        "nteract": {
          "transient": {
            "deleting": false
          }
        },
        "trusted": false
      },
      "id": "efb9447d-4e03-4a19-a86f-54291c9ab4b1"
    }
  ],
  "metadata": {
    "kernelspec": {
      "displayName": "CSharp",
      "language": "csharp",
      "name": "csharp"
    },
    "language_info": {
      "name": "csharp",
      "version": "7.3",
      "mimetype": "application/json",
      "file_extension": "ipynb",
      "codemirror_mode": "text/x-csharp"
    },
    "nteract": {
      "version": "dataExplorer 1.0"
    }
  },
  "nbformat": 4,
  "nbformat_minor": 5
}