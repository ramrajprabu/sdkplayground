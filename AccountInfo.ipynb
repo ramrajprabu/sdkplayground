{
  "cells": [
    {
      "cell_type": "code",
      "source": [
        "using System;\r\n",
        "using Microsoft.Azure.Cosmos;\r\n",
        "using System.Collections;\r\n",
        "using System.Net;\r\n",
        "\r\n",
        "CosmosClientOptions cosmosClientOptions = new CosmosClientOptions();\r\n",
        "// Initialize a new instance of CosmosClient using the built-in account endpoint and key parameters\r\n",
        "CosmosClient cosmosClient = new CosmosClient(Cosmos.Endpoint, Cosmos.Key, cosmosClientOptions);\r\n",
        "var account = await cosmosClient.ReadAccountAsync();\r\n",
        "account"
      ],
      "outputs": [
        {
          "output_type": "execute_result",
          "execution_count": 1,
          "data": {
            "text/plain": "Microsoft.Azure.Cosmos.AccountProperties",
            "application/json": {
              "data": {
                "id": "ramrajb-westcentralus-westcentralus",
                "_rid": "ramrajb-westcentralus-westcentralus.sql.cosmos.azure.com",
                "writableLocations": [
                  {
                    "name": "West Central US",
                    "databaseAccountEndpoint": "https://ramrajb-westcentralus-westcentralus.documents.azure.com:443/"
                  }
                ],
                "readableLocations": [
                  {
                    "name": "West Central US",
                    "databaseAccountEndpoint": "https://ramrajb-westcentralus-westcentralus.documents.azure.com:443/"
                  }
                ],
                "userConsistencyPolicy": {
                  "defaultConsistencyLevel": "Session",
                  "maxStalenessPrefix": 0,
                  "maxIntervalInSeconds": 0
                },
                "addresses": "//addresses/",
                "userReplicationPolicy": {
                  "MaxReplicaSetSize": 4,
                  "MinReplicaSetSize": 3,
                  "AsyncReplication": false
                },
                "systemReplicationPolicy": {
                  "MaxReplicaSetSize": 4,
                  "MinReplicaSetSize": 3,
                  "AsyncReplication": false
                },
                "readPolicy": {
                  "primaryReadCoefficient": 1,
                  "secondaryReadCoefficient": 1
                },
                "queryEngineConfiguration": "{\"maxSqlQueryInputLength\":262144,\"maxJoinsPerSqlQuery\":5,\"maxLogicalAndPerSqlQuery\":500,\"maxLogicalOrPerSqlQuery\":500,\"maxUdfRefPerSqlQuery\":10,\"maxInExpressionItemsCount\":16000,\"queryMaxInMemorySortDocumentCount\":500,\"maxQueryRequestTimeoutFraction\":0.9,\"sqlAllowNonFiniteNumbers\":false,\"sqlAllowAggregateFunctions\":true,\"sqlAllowSubQuery\":true,\"sqlAllowScalarSubQuery\":true,\"allowNewKeywords\":true,\"sqlAllowLike\":true,\"sqlAllowGroupByClause\":true,\"maxSpatialQueryCells\":12,\"spatialMaxGeometryPointCount\":256,\"sqlDisableOptimizationFlags\":0,\"sqlAllowTop\":true,\"enableSpatialIndexing\":true}",
                "enableMultipleWriteLocations": false
              }
            }
          },
          "metadata": {}
        }
      ],
      "execution_count": 1,
      "metadata": {
        "collapsed": true,
        "execution": {
          "iopub.status.busy": "2021-10-07T22:19:30.138Z",
          "iopub.status.idle": "2021-10-07T22:19:32.047Z",
          "shell.execute_reply": "2021-10-07T22:19:32.074Z"
        },
        "jupyter": {
          "outputs_hidden": false,
          "source_hidden": false
        },
        "nteract": {
          "transient": {
            "deleting": false
          }
        },
        "trusted": false
      },
      "id": "34107906-c137-49ac-af06-7cfbe98b5355"
    },
    {
      "cell_type": "code",
      "source": [
        "account.ReadableRegions"
      ],
      "outputs": [
        {
          "output_type": "execute_result",
          "execution_count": 2,
          "data": {
            "text/plain": "System.Collections.ObjectModel.Collection`1[Microsoft.Azure.Cosmos.AccountRegion]",
            "application/vnd.dataresource+json": {
              "data": [
                {
                  "name": "West Central US",
                  "databaseAccountEndpoint": "https://ramrajb-westcentralus-westcentralus.documents.azure.com:443/",
                  "index": 0
                }
              ],
              "schema": {
                "fields": [
                  {
                    "name": "index",
                    "type": "integer"
                  },
                  {
                    "name": "name",
                    "type": "string"
                  },
                  {
                    "name": "databaseAccountEndpoint",
                    "type": "string"
                  }
                ],
                "primaryKey": [
                  "index"
                ]
              }
            }
          },
          "metadata": {
            "application/vnd.dataresource+json": {
              "dx": {
                "summaryType": "violin",
                "marginalGraphics": "none",
                "view": "grid",
                "areaType": "hexbin",
                "selectedDimensions": [
                  "name"
                ],
                "selectedMetrics": [],
                "networkType": "force",
                "pieceType": "bar",
                "lineType": "line",
                "hierarchyType": "dendrogram",
                "colors": [
                  "#DA752E",
                  "#E5C209",
                  "#1441A0",
                  "#B86117",
                  "#4D430C",
                  "#1DB390",
                  "#B3331D",
                  "#088EB2",
                  "#417505",
                  "#E479A8",
                  "#F9F39E",
                  "#5782DC",
                  "#EBA97B",
                  "#A2AB60",
                  "#B291CF",
                  "#8DD2C2",
                  "#E6A19F",
                  "#3DC7E0",
                  "#98CE5B"
                ],
                "trendLine": "none",
                "barGrouping": "Clustered",
                "chart": {
                  "metric1": "none",
                  "metric2": "none",
                  "timeseriesSort": "array-order",
                  "metric3": "none",
                  "metric4": "none",
                  "networkLabel": "none",
                  "dim1": "name",
                  "dim2": "databaseAccountEndpoint",
                  "dim3": "none"
                }
              }
            }
          }
        }
      ],
      "execution_count": 2,
      "metadata": {
        "collapsed": true,
        "execution": {
          "iopub.status.busy": "2021-10-07T22:19:35.174Z",
          "iopub.status.idle": "2021-10-07T22:19:35.294Z",
          "shell.execute_reply": "2021-10-07T22:19:35.428Z"
        },
        "jupyter": {
          "outputs_hidden": false,
          "source_hidden": false
        },
        "nteract": {
          "transient": {
            "deleting": false
          }
        },
        "trusted": false
      },
      "id": "798b4048-52d1-44f9-9c2e-1432deaefe8d"
    },
    {
      "cell_type": "code",
      "source": [
        "account.WritableRegions"
      ],
      "outputs": [
        {
          "output_type": "execute_result",
          "execution_count": 18,
          "data": {
            "application/vnd.dataresource+json": {
              "data": [
                {
                  "databaseAccountEndpoint": "https://ramrajb-sdk-samples-westus2.documents.azure.com:443/",
                  "index": 0,
                  "name": "West US 2"
                }
              ],
              "schema": {
                "fields": [
                  {
                    "name": "index",
                    "type": "integer"
                  },
                  {
                    "name": "name",
                    "type": "string"
                  },
                  {
                    "name": "databaseAccountEndpoint",
                    "type": "string"
                  }
                ],
                "primaryKey": [
                  "index"
                ]
              }
            },
            "text/plain": "System.Collections.ObjectModel.Collection`1[Microsoft.Azure.Cosmos.AccountRegion]"
          },
          "metadata": {
            "application/vnd.dataresource+json": {
              "size": 4,
              "_root": {
                "ownerID": {},
                "entries": [
                  [
                    "size",
                    4
                  ],
                  [
                    "_root",
                    {
                      "size": 2,
                      "_root": {
                        "ownerID": {},
                        "entries": [
                          [
                            "ownerID",
                            {
                              "size": 0,
                              "__altered": false
                            }
                          ],
                          [
                            "entries",
                            {
                              "size": 4,
                              "_origin": 0,
                              "_capacity": 4,
                              "_level": 5,
                              "_root": null,
                              "_tail": {
                                "array": [
                                  {
                                    "size": 2,
                                    "_origin": 0,
                                    "_capacity": 2,
                                    "_level": 5,
                                    "_root": null,
                                    "_tail": {
                                      "array": [
                                        "size",
                                        1
                                      ]
                                    },
                                    "__altered": false
                                  },
                                  {
                                    "size": 2,
                                    "_origin": 0,
                                    "_capacity": 2,
                                    "_level": 5,
                                    "_root": null,
                                    "_tail": {
                                      "array": [
                                        "_root",
                                        {
                                          "size": 2,
                                          "_root": {
                                            "ownerID": {},
                                            "entries": [
                                              [
                                                "ownerID",
                                                {
                                                  "size": 0,
                                                  "__altered": false
                                                }
                                              ],
                                              [
                                                "entries",
                                                {
                                                  "size": 1,
                                                  "_origin": 0,
                                                  "_capacity": 1,
                                                  "_level": 5,
                                                  "_root": null,
                                                  "_tail": {
                                                    "array": [
                                                      {
                                                        "size": 2,
                                                        "_origin": 0,
                                                        "_capacity": 2,
                                                        "_level": 5,
                                                        "_root": null,
                                                        "_tail": {
                                                          "array": [
                                                            "dx",
                                                            {
                                                              "size": 14,
                                                              "_root": {
                                                                "ownerID": {},
                                                                "bitmap": 1078182321,
                                                                "nodes": [
                                                                  {
                                                                    "ownerID": {},
                                                                    "keyHash": -119117824,
                                                                    "entry": [
                                                                      "summaryType",
                                                                      "violin"
                                                                    ]
                                                                  },
                                                                  {
                                                                    "ownerID": {},
                                                                    "keyHash": -345406460,
                                                                    "entry": [
                                                                      "marginalGraphics",
                                                                      "none"
                                                                    ]
                                                                  },
                                                                  {
                                                                    "ownerID": {},
                                                                    "keyHash": 3619493,
                                                                    "entry": [
                                                                      "view",
                                                                      "grid"
                                                                    ]
                                                                  },
                                                                  {
                                                                    "ownerID": {},
                                                                    "keyHash": -592394905,
                                                                    "entry": [
                                                                      "areaType",
                                                                      "hexbin"
                                                                    ]
                                                                  },
                                                                  {
                                                                    "ownerID": {},
                                                                    "bitmap": 68165696,
                                                                    "nodes": [
                                                                      {
                                                                        "ownerID": {},
                                                                        "keyHash": -340014904,
                                                                        "entry": [
                                                                          "selectedDimensions",
                                                                          {
                                                                            "size": 1,
                                                                            "_origin": 0,
                                                                            "_capacity": 1,
                                                                            "_level": 5,
                                                                            "_root": null,
                                                                            "_tail": {
                                                                              "array": [
                                                                                "name"
                                                                              ]
                                                                            },
                                                                            "__altered": false
                                                                          }
                                                                        ]
                                                                      },
                                                                      {
                                                                        "ownerID": {},
                                                                        "keyHash": 390943144,
                                                                        "entry": [
                                                                          "selectedMetrics",
                                                                          {
                                                                            "size": 0,
                                                                            "_origin": 0,
                                                                            "_capacity": 0,
                                                                            "_level": 5,
                                                                            "__altered": false
                                                                          }
                                                                        ]
                                                                      },
                                                                      {
                                                                        "ownerID": {},
                                                                        "keyHash": -866871672,
                                                                        "entry": [
                                                                          "networkType",
                                                                          "force"
                                                                        ]
                                                                      },
                                                                      {
                                                                        "ownerID": {},
                                                                        "keyHash": 113796936,
                                                                        "entry": [
                                                                          "pieceType",
                                                                          "bar"
                                                                        ]
                                                                      }
                                                                    ]
                                                                  },
                                                                  {
                                                                    "ownerID": {},
                                                                    "keyHash": 114923854,
                                                                    "entry": [
                                                                      "lineType",
                                                                      "line"
                                                                    ]
                                                                  },
                                                                  {
                                                                    "ownerID": {},
                                                                    "keyHash": 831288079,
                                                                    "entry": [
                                                                      "hierarchyType",
                                                                      "dendrogram"
                                                                    ]
                                                                  },
                                                                  {
                                                                    "ownerID": {},
                                                                    "keyHash": -281100944,
                                                                    "entry": [
                                                                      "colors",
                                                                      {
                                                                        "size": 19,
                                                                        "_origin": 0,
                                                                        "_capacity": 19,
                                                                        "_level": 5,
                                                                        "_root": null,
                                                                        "_tail": {
                                                                          "array": [
                                                                            "#DA752E",
                                                                            "#E5C209",
                                                                            "#1441A0",
                                                                            "#B86117",
                                                                            "#4D430C",
                                                                            "#1DB390",
                                                                            "#B3331D",
                                                                            "#088EB2",
                                                                            "#417505",
                                                                            "#E479A8",
                                                                            "#F9F39E",
                                                                            "#5782DC",
                                                                            "#EBA97B",
                                                                            "#A2AB60",
                                                                            "#B291CF",
                                                                            "#8DD2C2",
                                                                            "#E6A19F",
                                                                            "#3DC7E0",
                                                                            "#98CE5B"
                                                                          ]
                                                                        },
                                                                        "__altered": false
                                                                      }
                                                                    ]
                                                                  },
                                                                  {
                                                                    "ownerID": {},
                                                                    "keyHash": 293080881,
                                                                    "entry": [
                                                                      "trendLine",
                                                                      "none"
                                                                    ]
                                                                  },
                                                                  {
                                                                    "ownerID": {},
                                                                    "keyHash": -136136138,
                                                                    "entry": [
                                                                      "barGrouping",
                                                                      "Clustered"
                                                                    ]
                                                                  },
                                                                  {
                                                                    "ownerID": {},
                                                                    "keyHash": 94623710,
                                                                    "entry": [
                                                                      "chart",
                                                                      {
                                                                        "size": 9,
                                                                        "_root": {
                                                                          "ownerID": {},
                                                                          "bitmap": 3678,
                                                                          "nodes": [
                                                                            {
                                                                              "ownerID": {},
                                                                              "keyHash": 955826305,
                                                                              "entry": [
                                                                                "metric1",
                                                                                "none"
                                                                              ]
                                                                            },
                                                                            {
                                                                              "ownerID": {},
                                                                              "bitmap": 67108880,
                                                                              "nodes": [
                                                                                {
                                                                                  "ownerID": {},
                                                                                  "keyHash": 955826306,
                                                                                  "entry": [
                                                                                    "metric2",
                                                                                    "none"
                                                                                  ]
                                                                                },
                                                                                {
                                                                                  "ownerID": {},
                                                                                  "keyHash": 346180418,
                                                                                  "entry": [
                                                                                    "timeseriesSort",
                                                                                    "array-order"
                                                                                  ]
                                                                                }
                                                                              ]
                                                                            },
                                                                            {
                                                                              "ownerID": {},
                                                                              "keyHash": 955826307,
                                                                              "entry": [
                                                                                "metric3",
                                                                                "none"
                                                                              ]
                                                                            },
                                                                            {
                                                                              "ownerID": {},
                                                                              "keyHash": 955826308,
                                                                              "entry": [
                                                                                "metric4",
                                                                                "none"
                                                                              ]
                                                                            },
                                                                            {
                                                                              "ownerID": {},
                                                                              "keyHash": -37592730,
                                                                              "entry": [
                                                                                "networkLabel",
                                                                                "none"
                                                                              ]
                                                                            },
                                                                            {
                                                                              "ownerID": {},
                                                                              "keyHash": 3083433,
                                                                              "entry": [
                                                                                "dim1",
                                                                                "name"
                                                                              ]
                                                                            },
                                                                            {
                                                                              "ownerID": {},
                                                                              "keyHash": 3083434,
                                                                              "entry": [
                                                                                "dim2",
                                                                                "databaseAccountEndpoint"
                                                                              ]
                                                                            },
                                                                            {
                                                                              "ownerID": {},
                                                                              "keyHash": 3083435,
                                                                              "entry": [
                                                                                "dim3",
                                                                                "none"
                                                                              ]
                                                                            }
                                                                          ]
                                                                        },
                                                                        "__altered": false
                                                                      }
                                                                    ]
                                                                  }
                                                                ]
                                                              },
                                                              "__altered": false
                                                            }
                                                          ]
                                                        },
                                                        "__altered": false
                                                      }
                                                    ]
                                                  },
                                                  "__altered": false
                                                }
                                              ]
                                            ]
                                          },
                                          "__altered": false
                                        }
                                      ]
                                    },
                                    "__altered": false
                                  },
                                  {
                                    "size": 2,
                                    "_origin": 0,
                                    "_capacity": 2,
                                    "_level": 5,
                                    "_root": null,
                                    "_tail": {
                                      "array": [
                                        "__altered",
                                        false
                                      ]
                                    },
                                    "__altered": false
                                  },
                                  {
                                    "size": 2,
                                    "_origin": 0,
                                    "_capacity": 2,
                                    "_level": 5,
                                    "_root": null,
                                    "_tail": {
                                      "array": [
                                        "dx",
                                        {
                                          "size": 14,
                                          "_root": {
                                            "ownerID": {},
                                            "bitmap": 1078182321,
                                            "nodes": [
                                              {
                                                "ownerID": {},
                                                "keyHash": -119117824,
                                                "entry": [
                                                  "summaryType",
                                                  "violin"
                                                ]
                                              },
                                              {
                                                "ownerID": {},
                                                "keyHash": -345406460,
                                                "entry": [
                                                  "marginalGraphics",
                                                  "none"
                                                ]
                                              },
                                              {
                                                "ownerID": {},
                                                "keyHash": 3619493,
                                                "entry": [
                                                  "view",
                                                  "grid"
                                                ]
                                              },
                                              {
                                                "ownerID": {},
                                                "keyHash": -592394905,
                                                "entry": [
                                                  "areaType",
                                                  "hexbin"
                                                ]
                                              },
                                              {
                                                "ownerID": {},
                                                "bitmap": 68165696,
                                                "nodes": [
                                                  {
                                                    "ownerID": {},
                                                    "keyHash": -340014904,
                                                    "entry": [
                                                      "selectedDimensions",
                                                      {
                                                        "size": 1,
                                                        "_origin": 0,
                                                        "_capacity": 1,
                                                        "_level": 5,
                                                        "_root": null,
                                                        "_tail": {
                                                          "array": [
                                                            "name"
                                                          ]
                                                        },
                                                        "__altered": false
                                                      }
                                                    ]
                                                  },
                                                  {
                                                    "ownerID": {},
                                                    "keyHash": 390943144,
                                                    "entry": [
                                                      "selectedMetrics",
                                                      {
                                                        "size": 0,
                                                        "_origin": 0,
                                                        "_capacity": 0,
                                                        "_level": 5,
                                                        "__altered": false
                                                      }
                                                    ]
                                                  },
                                                  {
                                                    "ownerID": {},
                                                    "keyHash": -866871672,
                                                    "entry": [
                                                      "networkType",
                                                      "force"
                                                    ]
                                                  },
                                                  {
                                                    "ownerID": {},
                                                    "keyHash": 113796936,
                                                    "entry": [
                                                      "pieceType",
                                                      "bar"
                                                    ]
                                                  }
                                                ]
                                              },
                                              {
                                                "ownerID": {},
                                                "keyHash": 114923854,
                                                "entry": [
                                                  "lineType",
                                                  "line"
                                                ]
                                              },
                                              {
                                                "ownerID": {},
                                                "keyHash": 831288079,
                                                "entry": [
                                                  "hierarchyType",
                                                  "dendrogram"
                                                ]
                                              },
                                              {
                                                "ownerID": {},
                                                "keyHash": -281100944,
                                                "entry": [
                                                  "colors",
                                                  {
                                                    "size": 19,
                                                    "_origin": 0,
                                                    "_capacity": 19,
                                                    "_level": 5,
                                                    "_root": null,
                                                    "_tail": {
                                                      "array": [
                                                        "#DA752E",
                                                        "#E5C209",
                                                        "#1441A0",
                                                        "#B86117",
                                                        "#4D430C",
                                                        "#1DB390",
                                                        "#B3331D",
                                                        "#088EB2",
                                                        "#417505",
                                                        "#E479A8",
                                                        "#F9F39E",
                                                        "#5782DC",
                                                        "#EBA97B",
                                                        "#A2AB60",
                                                        "#B291CF",
                                                        "#8DD2C2",
                                                        "#E6A19F",
                                                        "#3DC7E0",
                                                        "#98CE5B"
                                                      ]
                                                    },
                                                    "__altered": false
                                                  }
                                                ]
                                              },
                                              {
                                                "ownerID": {},
                                                "keyHash": 293080881,
                                                "entry": [
                                                  "trendLine",
                                                  "none"
                                                ]
                                              },
                                              {
                                                "ownerID": {},
                                                "keyHash": -136136138,
                                                "entry": [
                                                  "barGrouping",
                                                  "Clustered"
                                                ]
                                              },
                                              {
                                                "ownerID": {},
                                                "keyHash": 94623710,
                                                "entry": [
                                                  "chart",
                                                  {
                                                    "size": 9,
                                                    "_root": {
                                                      "ownerID": {},
                                                      "bitmap": 3678,
                                                      "nodes": [
                                                        {
                                                          "ownerID": {},
                                                          "keyHash": 955826305,
                                                          "entry": [
                                                            "metric1",
                                                            "none"
                                                          ]
                                                        },
                                                        {
                                                          "ownerID": {},
                                                          "bitmap": 67108880,
                                                          "nodes": [
                                                            {
                                                              "ownerID": {},
                                                              "keyHash": 955826306,
                                                              "entry": [
                                                                "metric2",
                                                                "none"
                                                              ]
                                                            },
                                                            {
                                                              "ownerID": {},
                                                              "keyHash": 346180418,
                                                              "entry": [
                                                                "timeseriesSort",
                                                                "array-order"
                                                              ]
                                                            }
                                                          ]
                                                        },
                                                        {
                                                          "ownerID": {},
                                                          "keyHash": 955826307,
                                                          "entry": [
                                                            "metric3",
                                                            "none"
                                                          ]
                                                        },
                                                        {
                                                          "ownerID": {},
                                                          "keyHash": 955826308,
                                                          "entry": [
                                                            "metric4",
                                                            "none"
                                                          ]
                                                        },
                                                        {
                                                          "ownerID": {},
                                                          "keyHash": -37592730,
                                                          "entry": [
                                                            "networkLabel",
                                                            "none"
                                                          ]
                                                        },
                                                        {
                                                          "ownerID": {},
                                                          "keyHash": 3083433,
                                                          "entry": [
                                                            "dim1",
                                                            "name"
                                                          ]
                                                        },
                                                        {
                                                          "ownerID": {},
                                                          "keyHash": 3083434,
                                                          "entry": [
                                                            "dim2",
                                                            "databaseAccountEndpoint"
                                                          ]
                                                        },
                                                        {
                                                          "ownerID": {},
                                                          "keyHash": 3083435,
                                                          "entry": [
                                                            "dim3",
                                                            "none"
                                                          ]
                                                        }
                                                      ]
                                                    },
                                                    "__altered": false
                                                  }
                                                ]
                                              }
                                            ]
                                          },
                                          "__altered": false
                                        }
                                      ]
                                    },
                                    "__altered": false
                                  }
                                ]
                              },
                              "__altered": false
                            }
                          ]
                        ]
                      },
                      "__altered": false
                    }
                  ],
                  [
                    "__altered",
                    false
                  ],
                  [
                    "dx",
                    {
                      "size": 14,
                      "_root": {
                        "ownerID": {},
                        "bitmap": 1078182321,
                        "nodes": [
                          {
                            "ownerID": {},
                            "keyHash": -119117824,
                            "entry": [
                              "summaryType",
                              "violin"
                            ]
                          },
                          {
                            "ownerID": {},
                            "keyHash": -345406460,
                            "entry": [
                              "marginalGraphics",
                              "none"
                            ]
                          },
                          {
                            "ownerID": {},
                            "keyHash": 3619493,
                            "entry": [
                              "view",
                              "grid"
                            ]
                          },
                          {
                            "ownerID": {},
                            "keyHash": -592394905,
                            "entry": [
                              "areaType",
                              "hexbin"
                            ]
                          },
                          {
                            "ownerID": {},
                            "bitmap": 68165696,
                            "nodes": [
                              {
                                "ownerID": {},
                                "keyHash": -340014904,
                                "entry": [
                                  "selectedDimensions",
                                  {
                                    "size": 1,
                                    "_origin": 0,
                                    "_capacity": 1,
                                    "_level": 5,
                                    "_root": null,
                                    "_tail": {
                                      "array": [
                                        "name"
                                      ]
                                    },
                                    "__altered": false
                                  }
                                ]
                              },
                              {
                                "ownerID": {},
                                "keyHash": 390943144,
                                "entry": [
                                  "selectedMetrics",
                                  {
                                    "size": 0,
                                    "_origin": 0,
                                    "_capacity": 0,
                                    "_level": 5,
                                    "__altered": false
                                  }
                                ]
                              },
                              {
                                "ownerID": {},
                                "keyHash": -866871672,
                                "entry": [
                                  "networkType",
                                  "force"
                                ]
                              },
                              {
                                "ownerID": {},
                                "keyHash": 113796936,
                                "entry": [
                                  "pieceType",
                                  "bar"
                                ]
                              }
                            ]
                          },
                          {
                            "ownerID": {},
                            "keyHash": 114923854,
                            "entry": [
                              "lineType",
                              "line"
                            ]
                          },
                          {
                            "ownerID": {},
                            "keyHash": 831288079,
                            "entry": [
                              "hierarchyType",
                              "dendrogram"
                            ]
                          },
                          {
                            "ownerID": {},
                            "keyHash": -281100944,
                            "entry": [
                              "colors",
                              {
                                "size": 19,
                                "_origin": 0,
                                "_capacity": 19,
                                "_level": 5,
                                "_root": null,
                                "_tail": {
                                  "array": [
                                    "#DA752E",
                                    "#E5C209",
                                    "#1441A0",
                                    "#B86117",
                                    "#4D430C",
                                    "#1DB390",
                                    "#B3331D",
                                    "#088EB2",
                                    "#417505",
                                    "#E479A8",
                                    "#F9F39E",
                                    "#5782DC",
                                    "#EBA97B",
                                    "#A2AB60",
                                    "#B291CF",
                                    "#8DD2C2",
                                    "#E6A19F",
                                    "#3DC7E0",
                                    "#98CE5B"
                                  ]
                                },
                                "__altered": false
                              }
                            ]
                          },
                          {
                            "ownerID": {},
                            "keyHash": 293080881,
                            "entry": [
                              "trendLine",
                              "none"
                            ]
                          },
                          {
                            "ownerID": {},
                            "keyHash": -136136138,
                            "entry": [
                              "barGrouping",
                              "Clustered"
                            ]
                          },
                          {
                            "ownerID": {},
                            "keyHash": 94623710,
                            "entry": [
                              "chart",
                              {
                                "size": 9,
                                "_root": {
                                  "ownerID": {},
                                  "bitmap": 3678,
                                  "nodes": [
                                    {
                                      "ownerID": {},
                                      "keyHash": 955826305,
                                      "entry": [
                                        "metric1",
                                        "none"
                                      ]
                                    },
                                    {
                                      "ownerID": {},
                                      "bitmap": 67108880,
                                      "nodes": [
                                        {
                                          "ownerID": {},
                                          "keyHash": 955826306,
                                          "entry": [
                                            "metric2",
                                            "none"
                                          ]
                                        },
                                        {
                                          "ownerID": {},
                                          "keyHash": 346180418,
                                          "entry": [
                                            "timeseriesSort",
                                            "array-order"
                                          ]
                                        }
                                      ]
                                    },
                                    {
                                      "ownerID": {},
                                      "keyHash": 955826307,
                                      "entry": [
                                        "metric3",
                                        "none"
                                      ]
                                    },
                                    {
                                      "ownerID": {},
                                      "keyHash": 955826308,
                                      "entry": [
                                        "metric4",
                                        "none"
                                      ]
                                    },
                                    {
                                      "ownerID": {},
                                      "keyHash": -37592730,
                                      "entry": [
                                        "networkLabel",
                                        "none"
                                      ]
                                    },
                                    {
                                      "ownerID": {},
                                      "keyHash": 3083433,
                                      "entry": [
                                        "dim1",
                                        "name"
                                      ]
                                    },
                                    {
                                      "ownerID": {},
                                      "keyHash": 3083434,
                                      "entry": [
                                        "dim2",
                                        "databaseAccountEndpoint"
                                      ]
                                    },
                                    {
                                      "ownerID": {},
                                      "keyHash": 3083435,
                                      "entry": [
                                        "dim3",
                                        "none"
                                      ]
                                    }
                                  ]
                                },
                                "__altered": false
                              }
                            ]
                          }
                        ]
                      },
                      "__altered": false
                    }
                  ]
                ]
              },
              "__altered": false,
              "dx": {
                "summaryType": "violin",
                "marginalGraphics": "none",
                "view": "grid",
                "areaType": "hexbin",
                "selectedDimensions": [
                  "name"
                ],
                "selectedMetrics": [],
                "networkType": "force",
                "pieceType": "bar",
                "lineType": "line",
                "hierarchyType": "dendrogram",
                "colors": [
                  "#DA752E",
                  "#E5C209",
                  "#1441A0",
                  "#B86117",
                  "#4D430C",
                  "#1DB390",
                  "#B3331D",
                  "#088EB2",
                  "#417505",
                  "#E479A8",
                  "#F9F39E",
                  "#5782DC",
                  "#EBA97B",
                  "#A2AB60",
                  "#B291CF",
                  "#8DD2C2",
                  "#E6A19F",
                  "#3DC7E0",
                  "#98CE5B"
                ],
                "trendLine": "none",
                "barGrouping": "Clustered",
                "chart": {
                  "metric1": "none",
                  "metric2": "none",
                  "timeseriesSort": "array-order",
                  "metric3": "none",
                  "metric4": "none",
                  "networkLabel": "none",
                  "dim1": "name",
                  "dim2": "databaseAccountEndpoint",
                  "dim3": "none"
                }
              }
            }
          }
        }
      ],
      "execution_count": 18,
      "metadata": {
        "collapsed": true,
        "execution": {
          "iopub.status.busy": "2021-03-09T09:53:06.430Z",
          "iopub.status.idle": "2021-03-09T09:53:06.497Z",
          "shell.execute_reply": "2021-03-09T09:53:06.505Z"
        },
        "jupyter": {
          "outputs_hidden": false,
          "source_hidden": false
        },
        "nteract": {
          "transient": {
            "deleting": false
          }
        },
        "trusted": false
      },
      "id": "efb9447d-4e03-4a19-a86f-54291c9ab4b1"
    }
  ],
  "metadata": {
    "kernelspec": {
      "displayName": "CSharp",
      "language": "csharp",
      "name": "csharp"
    },
    "language_info": {
      "name": "csharp",
      "version": "7.3",
      "mimetype": "application/json",
      "file_extension": "ipynb",
      "codemirror_mode": "text/x-csharp"
    },
    "nteract": {
      "version": "dataExplorer 1.0"
    }
  },
  "nbformat": 4,
  "nbformat_minor": 5
}