{
  "cells": [
    {
      "cell_type": "markdown",
      "source": [
        "# Import the latest Azure.Cosmos 4.0.0-preview3"
      ],
      "metadata": {
        "nteract": {
          "transient": {
            "deleting": false
          }
        }
      }
    },
    {
      "cell_type": "code",
      "source": [
        "#r \"nuget: System.Memory, 4.5.4\"\n",
        "#r \"nuget: Azure.Cosmos, 4.0.0-preview3\" \n",
        "#r \"nuget: Azure.Core, 1.0.0\"\n",
        "#r \"nuget: Microsoft.Bcl.AsyncInterfaces, 1.0.0\"\n",
        "#r \"nuget: System.Buffers, 4.5.0\"\n",
        "#r \"nuget: System.Diagnostics.DiagnosticSource, 4.6.0\"\n",
        "#r \"nuget: System.Numerics.Vectors, 4.5.0\"    "
      ],
      "outputs": [
        {
          "output_type": "execute_result",
          "execution_count": 20,
          "data": {},
          "metadata": {}
        }
      ],
      "execution_count": 20,
      "metadata": {
        "collapsed": true,
        "execution": {
          "iopub.execute_input": "2020-05-14T07:31:22.003Z",
          "iopub.status.busy": "2020-05-14T07:36:03.573Z",
          "iopub.status.idle": "2020-05-14T07:36:03.812Z",
          "shell.execute_reply": "2020-05-14T07:36:03.840Z"
        },
        "jupyter": {
          "outputs_hidden": false,
          "source_hidden": false
        },
        "nteract": {
          "transient": {
            "deleting": false
          }
        },
        "outputExpanded": false,
        "trusted": false
      }
    },
    {
      "cell_type": "markdown",
      "source": [
        "# Define the POCO types we want to use with Cosmos DB"
      ],
      "metadata": {
        "nteract": {
          "transient": {
            "deleting": false
          }
        }
      }
    },
    {
      "cell_type": "code",
      "source": [
        "using System;\n",
        "\n",
        "class TelemetryEvent\n",
        "{\n",
        "    public string id { get; set; }\n",
        "    \n",
        "    public string vin { get; set; }\n",
        "\n",
        "    public string eventName { get; set; }\n",
        "\n",
        "    public string vehicleType { get; set; }\n",
        "        \n",
        "    public string fuelType {get; set; }    \n",
        "\n",
        "    public double s1 { get; set; }\n",
        "\n",
        "    public double s2 { get; set; }\n",
        "\n",
        "    public double s3 { get; set; }\n",
        "\n",
        "    public DateTime timestamp { get; set; }\n",
        "\n",
        "    public string date { get; set; }\n",
        "\n",
        "    public string region { get; set; }\n",
        "\n",
        "}"
      ],
      "outputs": [
        {
          "output_type": "execute_result",
          "execution_count": 22,
          "data": {},
          "metadata": {}
        }
      ],
      "execution_count": 22,
      "metadata": {
        "collapsed": true,
        "execution": {
          "iopub.status.busy": "2020-05-14T07:36:05.692Z",
          "iopub.status.idle": "2020-05-14T07:36:06.110Z",
          "shell.execute_reply": "2020-05-14T07:36:06.135Z"
        },
        "jupyter": {
          "outputs_hidden": false,
          "source_hidden": false
        },
        "nteract": {
          "transient": {
            "deleting": false
          }
        },
        "outputExpanded": false,
        "trusted": false
      }
    },
    {
      "cell_type": "markdown",
      "source": [
        "# Create a cosmos client and use await foreach to read from the query"
      ],
      "metadata": {
        "nteract": {
          "transient": {
            "deleting": false
          }
        }
      }
    },
    {
      "cell_type": "code",
      "source": [
        "\n",
        "using System.Collections.Generic;\n",
        "using Azure.Cosmos;\n",
        "\n",
        "Azure.Cosmos.CosmosClient cosmosClient = new Azure.Cosmos.CosmosClient(Cosmos.Endpoint, Cosmos.Key);\n",
        "\n",
        "System.Reflection.Assembly.GetAssembly(cosmosClient.GetType())\n",
        "\n",
        "var sqlQueryText = \"SELECT * FROM c WHERE c.vin = '8'\";\n",
        "    \n",
        "var container = cosmosClient.GetContainer(\"CosmosIOTDemo\", \"VehicleData\");\n",
        "\n",
        "var queryDefinition = new Azure.Cosmos.QueryDefinition(sqlQueryText);\n",
        "\n",
        "var telemetryEvents = new List<TelemetryEvent>();\n",
        "\n",
        "await foreach (TelemetryEvent telemetryEvent in container.GetItemQueryIterator<TelemetryEvent>(queryDefinition))\n",
        "{\n",
        "    telemetryEvents.Add(telemetryEvent);\n",
        "}\n",
        "\n",
        "telemetryEvents"
      ],
      "outputs": [
        {
          "output_type": "execute_result",
          "execution_count": 26,
          "data": {
            "application/vnd.dataresource+json": {
              "data": [
                {
                  "date": "2020-04-15",
                  "eventName": "Harsh_break",
                  "fuelType": "Hybrid",
                  "id": "20b9dd08-b43a-44eb-8c17-1c4c6b313b91",
                  "index": 0,
                  "region": "Djibouti",
                  "s1": 1122.6767334396377,
                  "s2": 1975.8683089836818,
                  "s3": 860.2069749167222,
                  "timestamp": "2020-04-15T21:17:07.0357829+00:00",
                  "vehicleType": "Coupe",
                  "vin": "8"
                },
                {
                  "date": "2020-04-15",
                  "eventName": "Airbag_deploy",
                  "fuelType": "Gasoline",
                  "id": "1d5062c6-2994-472b-b978-9d852ff784c5",
                  "index": 1,
                  "region": "Bouvet Island (Bouvetoya)",
                  "s1": 226.04323488662172,
                  "s2": 722.067220612926,
                  "s3": 79.91324965046404,
                  "timestamp": "2020-04-15T21:17:07.0358669+00:00",
                  "vehicleType": "Minivan",
                  "vin": "8"
                },
                {
                  "date": "2020-04-15",
                  "eventName": "Airbag_deploy",
                  "fuelType": "Gasoline",
                  "id": "138bb13b-c5fe-4e3f-9f16-e71d67cf27c0",
                  "index": 2,
                  "region": "Micronesia",
                  "s1": 1089.3375243196904,
                  "s2": 444.8783234445743,
                  "s3": 1731.905115035784,
                  "timestamp": "2020-04-15T21:17:07.0358964+00:00",
                  "vehicleType": "SUV",
                  "vin": "8"
                },
                {
                  "date": "2020-04-15",
                  "eventName": "Check_engine_light",
                  "fuelType": "Hybrid",
                  "id": "84f7b986-ab1b-4ebc-8068-65a95a33f933",
                  "index": 3,
                  "region": "Reunion",
                  "s1": 184.30713044354093,
                  "s2": 932.3786879183626,
                  "s3": 1180.0386609495797,
                  "timestamp": "2020-04-15T21:17:07.0359628+00:00",
                  "vehicleType": "Extended Cab Pickup",
                  "vin": "8"
                },
                {
                  "date": "2020-04-15",
                  "eventName": "Check_engine_light",
                  "fuelType": "Electric",
                  "id": "67922438-c192-49e9-9913-27f373a87527",
                  "index": 4,
                  "region": "Brunei Darussalam",
                  "s1": 974.045929428677,
                  "s2": 1134.7465676696722,
                  "s3": 1973.404047752453,
                  "timestamp": "2020-04-15T21:17:07.0359947+00:00",
                  "vehicleType": "Coupe",
                  "vin": "8"
                },
                {
                  "date": "2020-04-15",
                  "eventName": "Harsh_break",
                  "fuelType": "Gasoline",
                  "id": "84b051a7-97e6-4a6d-83a4-0ac15e8c7b08",
                  "index": 5,
                  "region": "Falkland Islands (Malvinas)",
                  "s1": 640.8579779429631,
                  "s2": 512.667863693865,
                  "s3": 326.8809611503412,
                  "timestamp": "2020-04-15T21:17:07.0359993+00:00",
                  "vehicleType": "Crew Cab Pickup",
                  "vin": "8"
                },
                {
                  "date": "2020-04-15",
                  "eventName": "Check_engine_light",
                  "fuelType": "Gasoline",
                  "id": "7a625095-f247-41ca-80c0-7017b2949204",
                  "index": 6,
                  "region": "South Georgia and the South Sandwich Islands",
                  "s1": 1258.6831405599057,
                  "s2": 1875.277769911698,
                  "s3": 530.7384968058851,
                  "timestamp": "2020-04-15T21:17:07.0361337+00:00",
                  "vehicleType": "Minivan",
                  "vin": "8"
                },
                {
                  "date": "2020-04-15",
                  "eventName": "Check_engine_light",
                  "fuelType": "Hybrid",
                  "id": "47aa9c82-cd14-4b9a-9055-49fe97c3d388",
                  "index": 7,
                  "region": "Nicaragua",
                  "s1": 571.2063850342325,
                  "s2": 834.9930975781721,
                  "s3": 189.16708412401707,
                  "timestamp": "2020-04-15T21:17:07.036203+00:00",
                  "vehicleType": "Extended Cab Pickup",
                  "vin": "8"
                },
                {
                  "date": "2020-04-15",
                  "eventName": "Harsh_break",
                  "fuelType": "Gasoline",
                  "id": "12a9403e-c754-41a2-aa12-60f0fcf1ffe6",
                  "index": 8,
                  "region": "Myanmar",
                  "s1": 1753.7112471553085,
                  "s2": 982.0796304480543,
                  "s3": 41.0980196805196,
                  "timestamp": "2020-04-15T21:17:07.0362166+00:00",
                  "vehicleType": "Hatchback",
                  "vin": "8"
                },
                {
                  "date": "2020-04-15",
                  "eventName": "Check_engine_light",
                  "fuelType": "Diesel",
                  "id": "4b8de449-1dc2-41eb-854d-badf8ee60490",
                  "index": 9,
                  "region": "Myanmar",
                  "s1": 1765.4523232022545,
                  "s2": 917.0227593667911,
                  "s3": 1527.6183593955907,
                  "timestamp": "2020-04-15T21:17:33.9110631+00:00",
                  "vehicleType": "Convertible",
                  "vin": "8"
                },
                {
                  "date": "2020-04-15",
                  "eventName": "Check_engine_light",
                  "fuelType": "Electric",
                  "id": "b7df880d-0862-4c81-8c32-c169a0254bc6",
                  "index": 10,
                  "region": "Micronesia",
                  "s1": 723.654501066848,
                  "s2": 1765.8843916090598,
                  "s3": 718.4650445177523,
                  "timestamp": "2020-04-15T21:17:33.9111285+00:00",
                  "vehicleType": "Hatchback",
                  "vin": "8"
                },
                {
                  "date": "2020-04-15",
                  "eventName": "Airbag_deploy",
                  "fuelType": "Hybrid",
                  "id": "5ef1ce9f-8cf2-449f-ba51-9e6bb3f31c28",
                  "index": 11,
                  "region": "Martinique",
                  "s1": 1319.3587567137363,
                  "s2": 1005.6396533770671,
                  "s3": 5.366620925891501,
                  "timestamp": "2020-04-15T21:17:33.9111571+00:00",
                  "vehicleType": "Wagon",
                  "vin": "8"
                },
                {
                  "date": "2020-04-15",
                  "eventName": "Check_engine_light",
                  "fuelType": "Electric",
                  "id": "38848f20-ae3c-4c20-8ced-4ab7abd31bb0",
                  "index": 12,
                  "region": "Sweden",
                  "s1": 332.2999930783641,
                  "s2": 163.54436418951693,
                  "s3": 28.293742138097876,
                  "timestamp": "2020-04-15T21:17:33.9112067+00:00",
                  "vehicleType": "Hatchback",
                  "vin": "8"
                },
                {
                  "date": "2020-04-15",
                  "eventName": "Harsh_break",
                  "fuelType": "Gasoline",
                  "id": "d4e3ff8e-6bc4-432a-bdc7-2c52b27953d3",
                  "index": 13,
                  "region": "Netherlands Antilles",
                  "s1": 312.8489699083608,
                  "s2": 1410.715710895935,
                  "s3": 1736.284923411573,
                  "timestamp": "2020-04-15T21:17:33.9113122+00:00",
                  "vehicleType": "Crew Cab Pickup",
                  "vin": "8"
                },
                {
                  "date": "2020-04-15",
                  "eventName": "Check_engine_light",
                  "fuelType": "Hybrid",
                  "id": "27b1880b-6cb3-41f9-b3a5-9154e1d51cd9",
                  "index": 14,
                  "region": "Rwanda",
                  "s1": 1409.536099227395,
                  "s2": 1502.5816539151508,
                  "s3": 677.9990924717854,
                  "timestamp": "2020-04-15T21:17:33.9113164+00:00",
                  "vehicleType": "Passenger Van",
                  "vin": "8"
                },
                {
                  "date": "2020-04-15",
                  "eventName": "Harsh_break",
                  "fuelType": "Diesel",
                  "id": "e03e15b9-be4a-46f6-a504-3e2b150ed294",
                  "index": 15,
                  "region": "Northern Mariana Islands",
                  "s1": 1071.8377429334623,
                  "s2": 1870.4336138039052,
                  "s3": 918.571807665551,
                  "timestamp": "2020-04-15T21:17:33.9113815+00:00",
                  "vehicleType": "Passenger Van",
                  "vin": "8"
                },
                {
                  "date": "2020-04-15",
                  "eventName": "Airbag_deploy",
                  "fuelType": "Gasoline",
                  "id": "5dc920cf-ae4d-46fe-9240-2ab439f5bf2e",
                  "index": 16,
                  "region": "South Georgia and the South Sandwich Islands",
                  "s1": 310.07390672391,
                  "s2": 1546.6767359490864,
                  "s3": 1950.3744391940415,
                  "timestamp": "2020-04-15T21:17:33.9114027+00:00",
                  "vehicleType": "Coupe",
                  "vin": "8"
                },
                {
                  "date": "2020-04-15",
                  "eventName": "Airbag_deploy",
                  "fuelType": "Gasoline",
                  "id": "f761a91f-0fbb-4e4c-9e6e-7733fdde8e3a",
                  "index": 17,
                  "region": "Dominica",
                  "s1": 126.06502466279318,
                  "s2": 1937.0617694938844,
                  "s3": 1875.8555630374958,
                  "timestamp": "2020-04-15T21:17:33.911407+00:00",
                  "vehicleType": "Passenger Van",
                  "vin": "8"
                },
                {
                  "date": "2020-04-15",
                  "eventName": "Airbag_deploy",
                  "fuelType": "Diesel",
                  "id": "8b3885f3-24a8-4cf5-a3bd-fcd714feddd1",
                  "index": 18,
                  "region": "Democratic People's Republic of Korea",
                  "s1": 481.79732806691777,
                  "s2": 1388.351643621154,
                  "s3": 1415.0224712062734,
                  "timestamp": "2020-04-15T21:17:33.9114215+00:00",
                  "vehicleType": "Sedan",
                  "vin": "8"
                },
                {
                  "date": "2020-04-15",
                  "eventName": "Harsh_break",
                  "fuelType": "Diesel",
                  "id": "60b46054-4965-4ddc-ac43-293c88514e5d",
                  "index": 19,
                  "region": "Puerto Rico",
                  "s1": 1713.4383259766914,
                  "s2": 1506.9154239696986,
                  "s3": 1949.6552116687667,
                  "timestamp": "2020-04-15T21:17:33.911426+00:00",
                  "vehicleType": "Passenger Van",
                  "vin": "8"
                },
                {
                  "date": "2020-04-15",
                  "eventName": "Airbag_deploy",
                  "fuelType": "Electric",
                  "id": "be8c6e50-eb87-4ca6-8cde-7df3029c6470",
                  "index": 20,
                  "region": "Syrian Arab Republic",
                  "s1": 129.58307549524264,
                  "s2": 418.8874235366878,
                  "s3": 115.2329592486997,
                  "timestamp": "2020-04-15T21:37:39.2089469+00:00",
                  "vehicleType": "Extended Cab Pickup",
                  "vin": "8"
                },
                {
                  "date": "2020-04-15",
                  "eventName": "Check_engine_light",
                  "fuelType": "Diesel",
                  "id": "b75b6be6-32e4-4d93-a816-4004a9134fa8",
                  "index": 21,
                  "region": "Somalia",
                  "s1": 535.8080468833484,
                  "s2": 498.50646286201965,
                  "s3": 1917.4897284090937,
                  "timestamp": "2020-04-15T21:37:39.2090062+00:00",
                  "vehicleType": "Hatchback",
                  "vin": "8"
                },
                {
                  "date": "2020-04-15",
                  "eventName": "Harsh_break",
                  "fuelType": "Diesel",
                  "id": "1a6301b0-8244-4c27-8127-aa60b4dbd297",
                  "index": 22,
                  "region": "Niger",
                  "s1": 1098.4340507683503,
                  "s2": 335.5596771275437,
                  "s3": 297.3601280215011,
                  "timestamp": "2020-04-15T21:37:39.209043+00:00",
                  "vehicleType": "Passenger Van",
                  "vin": "8"
                },
                {
                  "date": "2020-04-15",
                  "eventName": "Airbag_deploy",
                  "fuelType": "Diesel",
                  "id": "8660ee2c-f462-4c99-9b32-f77285d3235a",
                  "index": 23,
                  "region": "Morocco",
                  "s1": 579.0963980495447,
                  "s2": 1876.5613043078042,
                  "s3": 1768.9320953366962,
                  "timestamp": "2020-04-15T21:37:39.2090874+00:00",
                  "vehicleType": "Coupe",
                  "vin": "8"
                },
                {
                  "date": "2020-04-15",
                  "eventName": "Airbag_deploy",
                  "fuelType": "Electric",
                  "id": "992b607e-891f-47e8-9f29-5a4ddba98997",
                  "index": 24,
                  "region": "Bouvet Island (Bouvetoya)",
                  "s1": 1579.8874393412318,
                  "s2": 1917.5437106632364,
                  "s3": 292.0392558858913,
                  "timestamp": "2020-04-15T21:37:39.2091764+00:00",
                  "vehicleType": "Extended Cab Pickup",
                  "vin": "8"
                },
                {
                  "date": "2020-04-15",
                  "eventName": "Harsh_break",
                  "fuelType": "Gasoline",
                  "id": "da51d2de-307f-474f-9841-600150d19d03",
                  "index": 25,
                  "region": "Morocco",
                  "s1": 1414.595310277117,
                  "s2": 1058.0359069942665,
                  "s3": 1237.5612338839849,
                  "timestamp": "2020-04-15T21:37:39.2091805+00:00",
                  "vehicleType": "Cargo Van",
                  "vin": "8"
                },
                {
                  "date": "2020-04-15",
                  "eventName": "Harsh_break",
                  "fuelType": "Diesel",
                  "id": "a40535e5-8e91-4828-97e4-87bf0998ea95",
                  "index": 26,
                  "region": "Oman",
                  "s1": 1914.4983871367285,
                  "s2": 544.1280785585419,
                  "s3": 170.54476935348694,
                  "timestamp": "2020-04-15T21:37:39.2092423+00:00",
                  "vehicleType": "Extended Cab Pickup",
                  "vin": "8"
                },
                {
                  "date": "2020-04-15",
                  "eventName": "Harsh_break",
                  "fuelType": "Diesel",
                  "id": "18146bfc-cba3-4511-b4d3-10288a749c06",
                  "index": 27,
                  "region": "Macedonia",
                  "s1": 1940.6908473538656,
                  "s2": 1754.2717812630683,
                  "s3": 312.4231959560063,
                  "timestamp": "2020-04-15T21:37:39.2092464+00:00",
                  "vehicleType": "Extended Cab Pickup",
                  "vin": "8"
                },
                {
                  "date": "2020-04-15",
                  "eventName": "Harsh_break",
                  "fuelType": "Gasoline",
                  "id": "ae1d87fb-8882-4dea-96e5-e1f68a4580c8",
                  "index": 28,
                  "region": "Italy",
                  "s1": 203.3663447682589,
                  "s2": 1324.4805939549024,
                  "s3": 1959.182426063429,
                  "timestamp": "2020-04-15T21:42:36.5639832+00:00",
                  "vehicleType": "Sedan",
                  "vin": "8"
                },
                {
                  "date": "2020-04-15",
                  "eventName": "Harsh_break",
                  "fuelType": "Gasoline",
                  "id": "789379d1-daf5-42db-8368-37c9caef4c2c",
                  "index": 29,
                  "region": "Guinea-Bissau",
                  "s1": 778.586127798346,
                  "s2": 554.3520188743025,
                  "s3": 765.1646995689555,
                  "timestamp": "2020-04-15T21:42:36.5640149+00:00",
                  "vehicleType": "Extended Cab Pickup",
                  "vin": "8"
                },
                {
                  "date": "2020-04-15",
                  "eventName": "Airbag_deploy",
                  "fuelType": "Gasoline",
                  "id": "d9df78fe-f74e-4379-a6ca-a09175bb76d2",
                  "index": 30,
                  "region": "Australia",
                  "s1": 1624.9491464658404,
                  "s2": 759.8647363413427,
                  "s3": 1868.9195443153938,
                  "timestamp": "2020-04-15T21:42:36.5640332+00:00",
                  "vehicleType": "Coupe",
                  "vin": "8"
                },
                {
                  "date": "2020-04-15",
                  "eventName": "Airbag_deploy",
                  "fuelType": "Diesel",
                  "id": "d3809010-911c-4ca7-90a5-48c76cfedb2a",
                  "index": 31,
                  "region": "Syrian Arab Republic",
                  "s1": 538.500614735531,
                  "s2": 1811.2819407378706,
                  "s3": 1983.8316995877922,
                  "timestamp": "2020-04-15T21:42:36.5640475+00:00",
                  "vehicleType": "Convertible",
                  "vin": "8"
                },
                {
                  "date": "2020-04-15",
                  "eventName": "Check_engine_light",
                  "fuelType": "Gasoline",
                  "id": "e6ff86c7-141c-4d32-be19-4825bd7c6b0e",
                  "index": 32,
                  "region": "Saint Vincent and the Grenadines",
                  "s1": 1520.6773242855807,
                  "s2": 295.228767286627,
                  "s3": 99.50047766580269,
                  "timestamp": "2020-04-15T21:42:36.5640574+00:00",
                  "vehicleType": "Wagon",
                  "vin": "8"
                },
                {
                  "date": "2020-04-15",
                  "eventName": "Harsh_break",
                  "fuelType": "Gasoline",
                  "id": "65cd2696-6186-45fa-a1c9-75627d94fba8",
                  "index": 33,
                  "region": "Macedonia",
                  "s1": 1927.1465785918508,
                  "s2": 1070.0726520535873,
                  "s3": 660.0119246449377,
                  "timestamp": "2020-04-15T21:42:36.564128+00:00",
                  "vehicleType": "Sedan",
                  "vin": "8"
                },
                {
                  "date": "2020-04-15",
                  "eventName": "Airbag_deploy",
                  "fuelType": "Hybrid",
                  "id": "fc5a2405-82ed-4a18-8f85-ddf42f9f4a0a",
                  "index": 34,
                  "region": "Haiti",
                  "s1": 524.657698219017,
                  "s2": 1632.3592496832644,
                  "s3": 1029.9019724749503,
                  "timestamp": "2020-04-15T21:42:36.5641328+00:00",
                  "vehicleType": "Cargo Van",
                  "vin": "8"
                },
                {
                  "date": "2020-04-15",
                  "eventName": "Harsh_break",
                  "fuelType": "Gasoline",
                  "id": "9f8d18f3-6b2c-47ea-8d18-661a1b7e5491",
                  "index": 35,
                  "region": "Indonesia",
                  "s1": 577.0331397373384,
                  "s2": 1519.7221189475254,
                  "s3": 1377.9685854171257,
                  "timestamp": "2020-04-15T21:42:36.5641489+00:00",
                  "vehicleType": "Passenger Van",
                  "vin": "8"
                },
                {
                  "date": "2020-04-15",
                  "eventName": "Check_engine_light",
                  "fuelType": "Electric",
                  "id": "964034b8-3e9c-4d58-85c0-804b0ad15a17",
                  "index": 36,
                  "region": "Guernsey",
                  "s1": 171.50494732917517,
                  "s2": 515.4741319946359,
                  "s3": 508.8888601576392,
                  "timestamp": "2020-04-15T21:42:36.5641884+00:00",
                  "vehicleType": "Crew Cab Pickup",
                  "vin": "8"
                },
                {
                  "date": "2020-04-15",
                  "eventName": "Check_engine_light",
                  "fuelType": "Gasoline",
                  "id": "145fa0a9-b9e1-4d7d-b019-e4692ae7b0be",
                  "index": 37,
                  "region": "Mali",
                  "s1": 1699.10642380738,
                  "s2": 682.808309796177,
                  "s3": 1460.7394690181777,
                  "timestamp": "2020-04-15T21:42:36.564308+00:00",
                  "vehicleType": "SUV",
                  "vin": "8"
                },
                {
                  "date": "2020-04-15",
                  "eventName": "Airbag_deploy",
                  "fuelType": "Diesel",
                  "id": "0ca56193-8dda-4fe8-beed-d88c2b935c57",
                  "index": 38,
                  "region": "Russian Federation",
                  "s1": 1550.68902153647,
                  "s2": 544.6061499140254,
                  "s3": 1364.2620245447672,
                  "timestamp": "2020-04-15T21:42:36.5643669+00:00",
                  "vehicleType": "Cargo Van",
                  "vin": "8"
                },
                {
                  "date": "2020-04-17",
                  "eventName": "Airbag_deploy",
                  "fuelType": "Hybrid",
                  "id": "a958e79a-2e9f-42e6-a0e5-f0862ec4a54f",
                  "index": 39,
                  "region": "Iraq",
                  "s1": 1856.978420601682,
                  "s2": 576.5696167445601,
                  "s3": 644.9155655437687,
                  "timestamp": "2020-04-17T20:29:01.8769682+00:00",
                  "vehicleType": "Extended Cab Pickup",
                  "vin": "8"
                },
                {
                  "date": "2020-04-17",
                  "eventName": "Check_engine_light",
                  "fuelType": "Electric",
                  "id": "f5a905ac-2736-48a1-bc93-180a446dd3c8",
                  "index": 40,
                  "region": "Seychelles",
                  "s1": 256.0974425110488,
                  "s2": 1715.9381077768924,
                  "s3": 1972.4573132123135,
                  "timestamp": "2020-04-17T20:29:01.8769758+00:00",
                  "vehicleType": "Passenger Van",
                  "vin": "8"
                },
                {
                  "date": "2020-04-17",
                  "eventName": "Check_engine_light",
                  "fuelType": "Gasoline",
                  "id": "e230dbf6-6db9-4d6d-a4eb-55676e9846e4",
                  "index": 41,
                  "region": "China",
                  "s1": 390.3050943111559,
                  "s2": 1053.1172693013762,
                  "s3": 1166.6888323722821,
                  "timestamp": "2020-04-17T20:29:01.8769846+00:00",
                  "vehicleType": "Cargo Van",
                  "vin": "8"
                },
                {
                  "date": "2020-04-17",
                  "eventName": "Harsh_break",
                  "fuelType": "Electric",
                  "id": "6b4e0b9d-e941-43eb-9073-b2d50adffc03",
                  "index": 42,
                  "region": "Algeria",
                  "s1": 1174.5027282868991,
                  "s2": 965.4692046509447,
                  "s3": 1242.7721066580957,
                  "timestamp": "2020-04-17T20:29:01.8770881+00:00",
                  "vehicleType": "Coupe",
                  "vin": "8"
                },
                {
                  "date": "2020-04-17",
                  "eventName": "Check_engine_light",
                  "fuelType": "Gasoline",
                  "id": "5b1d393d-e2b9-41ba-bfa7-4083f88ece38",
                  "index": 43,
                  "region": "United Arab Emirates",
                  "s1": 261.1692164056791,
                  "s2": 391.36275627713775,
                  "s3": 1010.3873038251826,
                  "timestamp": "2020-04-17T20:29:01.8771991+00:00",
                  "vehicleType": "Minivan",
                  "vin": "8"
                },
                {
                  "date": "2020-04-17",
                  "eventName": "Harsh_break",
                  "fuelType": "Gasoline",
                  "id": "af5035a0-ffcf-48b2-abef-478f9f2e2421",
                  "index": 44,
                  "region": "Uzbekistan",
                  "s1": 1936.3317440284097,
                  "s2": 312.9411619770998,
                  "s3": 156.5246269891619,
                  "timestamp": "2020-04-17T20:29:01.8772162+00:00",
                  "vehicleType": "Extended Cab Pickup",
                  "vin": "8"
                },
                {
                  "date": "2020-04-17",
                  "eventName": "Airbag_deploy",
                  "fuelType": "Electric",
                  "id": "0cb4af8f-b01f-4372-9237-83108cffac9a",
                  "index": 45,
                  "region": "Puerto Rico",
                  "s1": 1684.1940532295007,
                  "s2": 1359.6549772409046,
                  "s3": 1483.4023097131412,
                  "timestamp": "2020-04-17T20:29:01.8772877+00:00",
                  "vehicleType": "Crew Cab Pickup",
                  "vin": "8"
                },
                {
                  "date": "2020-04-28",
                  "eventName": "Check_engine_light",
                  "fuelType": "Electric",
                  "id": "98712f87-e062-4ce7-a82f-c05139c6f664",
                  "index": 46,
                  "region": "Saint Helena",
                  "s1": 602.3852474658681,
                  "s2": 1577.7237881108765,
                  "s3": 722.3072020412922,
                  "timestamp": "2020-04-28T17:20:48.1525573+00:00",
                  "vehicleType": "Passenger Van",
                  "vin": "8"
                },
                {
                  "date": "2020-04-28",
                  "eventName": "Airbag_deploy",
                  "fuelType": "Diesel",
                  "id": "cdf7b900-7170-43b9-ad5c-28b02c12b81a",
                  "index": 47,
                  "region": "Uruguay",
                  "s1": 736.9568708352543,
                  "s2": 1605.1974639595476,
                  "s3": 1393.217244810526,
                  "timestamp": "2020-04-28T17:20:48.1526465+00:00",
                  "vehicleType": "Minivan",
                  "vin": "8"
                },
                {
                  "date": "2020-04-28",
                  "eventName": "Harsh_break",
                  "fuelType": "Electric",
                  "id": "8c69920a-fd26-4e38-b9d4-f05c8adf65dd",
                  "index": 48,
                  "region": "Azerbaijan",
                  "s1": 1980.6113600677863,
                  "s2": 1564.5053444018147,
                  "s3": 208.33743624823978,
                  "timestamp": "2020-04-28T17:22:00.2927824+00:00",
                  "vehicleType": "SUV",
                  "vin": "8"
                },
                {
                  "date": "2020-04-28",
                  "eventName": "Check_engine_light",
                  "fuelType": "Electric",
                  "id": "07993d75-b9d9-4b50-ae9f-df176b766653",
                  "index": 49,
                  "region": "Mayotte",
                  "s1": 49.43298881660821,
                  "s2": 436.94271333419846,
                  "s3": 56.80314058615041,
                  "timestamp": "2020-04-28T17:22:00.2928035+00:00",
                  "vehicleType": "Sedan",
                  "vin": "8"
                },
                {
                  "date": "2020-04-28",
                  "eventName": "Harsh_break",
                  "fuelType": "Gasoline",
                  "id": "75534aa2-f5cd-46e8-8134-22f3281d08a7",
                  "index": 50,
                  "region": "Morocco",
                  "s1": 1387.4632691552226,
                  "s2": 80.14379777486613,
                  "s3": 222.76534141449505,
                  "timestamp": "2020-04-28T17:22:00.2928118+00:00",
                  "vehicleType": "Hatchback",
                  "vin": "8"
                },
                {
                  "date": "2020-04-28",
                  "eventName": "Harsh_break",
                  "fuelType": "Electric",
                  "id": "728b761e-1943-4d8b-a633-a5fee2f58358",
                  "index": 51,
                  "region": "Saint Martin",
                  "s1": 192.89210168267232,
                  "s2": 1667.7924884524161,
                  "s3": 1502.1267264551143,
                  "timestamp": "2020-04-28T17:22:00.2928348+00:00",
                  "vehicleType": "SUV",
                  "vin": "8"
                },
                {
                  "date": "2020-04-28",
                  "eventName": "Airbag_deploy",
                  "fuelType": "Gasoline",
                  "id": "a6ebbd34-3ed5-4d0c-bb61-0f9953f01a32",
                  "index": 52,
                  "region": "Nauru",
                  "s1": 193.2497676272177,
                  "s2": 216.69518252215124,
                  "s3": 948.3158407343159,
                  "timestamp": "2020-04-28T17:22:00.2928389+00:00",
                  "vehicleType": "Wagon",
                  "vin": "8"
                },
                {
                  "date": "2020-04-28",
                  "eventName": "Harsh_break",
                  "fuelType": "Diesel",
                  "id": "b0bf2209-b19a-4ad2-bfd9-07143766e6e6",
                  "index": 53,
                  "region": "Bosnia and Herzegovina",
                  "s1": 572.6899484799662,
                  "s2": 1793.6160628290922,
                  "s3": 626.9222521995764,
                  "timestamp": "2020-04-28T17:22:00.2928555+00:00",
                  "vehicleType": "Extended Cab Pickup",
                  "vin": "8"
                },
                {
                  "date": "2020-04-28",
                  "eventName": "Airbag_deploy",
                  "fuelType": "Hybrid",
                  "id": "ea22e072-e887-4cfe-b9fe-6d4074ff2261",
                  "index": 54,
                  "region": "Wallis and Futuna",
                  "s1": 1404.62499123608,
                  "s2": 822.3351665671613,
                  "s3": 745.4842574039866,
                  "timestamp": "2020-04-28T17:22:00.2928991+00:00",
                  "vehicleType": "Hatchback",
                  "vin": "8"
                },
                {
                  "date": "2020-04-28",
                  "eventName": "Airbag_deploy",
                  "fuelType": "Diesel",
                  "id": "851a3383-c21c-4b6f-ac70-3799b2af895d",
                  "index": 55,
                  "region": "Uganda",
                  "s1": 1935.5527219784226,
                  "s2": 458.80068580610714,
                  "s3": 950.2338574422681,
                  "timestamp": "2020-04-28T17:22:00.2929502+00:00",
                  "vehicleType": "SUV",
                  "vin": "8"
                },
                {
                  "date": "2020-04-28",
                  "eventName": "Harsh_break",
                  "fuelType": "Diesel",
                  "id": "01c40aff-d3a6-47a9-bf60-0ed7302c8811",
                  "index": 56,
                  "region": "Luxembourg",
                  "s1": 972.9787736530317,
                  "s2": 1226.8484447513933,
                  "s3": 1839.617750196074,
                  "timestamp": "2020-04-28T17:22:00.2929707+00:00",
                  "vehicleType": "Passenger Van",
                  "vin": "8"
                },
                {
                  "date": "2020-04-28",
                  "eventName": "Airbag_deploy",
                  "fuelType": "Electric",
                  "id": "2c90028e-7e27-40e9-aae3-266eb204af44",
                  "index": 57,
                  "region": "Denmark",
                  "s1": 552.0569669511435,
                  "s2": 166.77777666401946,
                  "s3": 1035.1992520420808,
                  "timestamp": "2020-04-28T17:22:00.2929848+00:00",
                  "vehicleType": "Extended Cab Pickup",
                  "vin": "8"
                },
                {
                  "date": "2020-04-28",
                  "eventName": "Check_engine_light",
                  "fuelType": "Electric",
                  "id": "eebad875-f821-4d43-82af-5d9f21026f54",
                  "index": 58,
                  "region": "Bahrain",
                  "s1": 787.8752531967476,
                  "s2": 106.31287486632954,
                  "s3": 856.7827851794581,
                  "timestamp": "2020-04-28T17:22:00.2932113+00:00",
                  "vehicleType": "Hatchback",
                  "vin": "8"
                },
                {
                  "date": "2020-04-28",
                  "eventName": "Check_engine_light",
                  "fuelType": "Gasoline",
                  "id": "5e2a92ab-0d11-49cb-a987-2bd54111fd3e",
                  "index": 59,
                  "region": "Gibraltar",
                  "s1": 1036.4353676561432,
                  "s2": 1280.356431020124,
                  "s3": 703.399894256331,
                  "timestamp": "2020-04-28T17:22:00.2932169+00:00",
                  "vehicleType": "Passenger Van",
                  "vin": "8"
                },
                {
                  "date": "2020-04-28",
                  "eventName": "Harsh_break",
                  "fuelType": "Gasoline",
                  "id": "89ad290e-fab7-431d-8253-dface3092163",
                  "index": 60,
                  "region": "Barbados",
                  "s1": 817.663644390024,
                  "s2": 958.5723982763349,
                  "s3": 826.6423113214049,
                  "timestamp": "2020-04-28T17:22:00.2932969+00:00",
                  "vehicleType": "SUV",
                  "vin": "8"
                },
                {
                  "date": "2020-04-28",
                  "eventName": "Check_engine_light",
                  "fuelType": "Electric",
                  "id": "da15d328-84af-4892-9e2c-9ccc81ca4cc9",
                  "index": 61,
                  "region": "Malaysia",
                  "s1": 906.970211218563,
                  "s2": 256.3215630684614,
                  "s3": 1499.9919978799262,
                  "timestamp": "2020-04-28T17:22:00.2933163+00:00",
                  "vehicleType": "Sedan",
                  "vin": "8"
                },
                {
                  "date": "2020-04-28",
                  "eventName": "Airbag_deploy",
                  "fuelType": "Gasoline",
                  "id": "60ce613f-9e46-43d9-9406-65c28f5354d7",
                  "index": 62,
                  "region": "Andorra",
                  "s1": 1670.772463961864,
                  "s2": 1366.607768142879,
                  "s3": 269.14780417976334,
                  "timestamp": "2020-04-28T17:22:14.1411557+00:00",
                  "vehicleType": "Cargo Van",
                  "vin": "8"
                },
                {
                  "date": "2020-04-28",
                  "eventName": "Check_engine_light",
                  "fuelType": "Electric",
                  "id": "0016de45-8386-4ea7-951e-2bbe62de381f",
                  "index": 63,
                  "region": "Iraq",
                  "s1": 706.260389626613,
                  "s2": 1948.404291706348,
                  "s3": 1522.8659308589372,
                  "timestamp": "2020-04-28T17:22:14.1422619+00:00",
                  "vehicleType": "Coupe",
                  "vin": "8"
                },
                {
                  "date": "2020-04-28",
                  "eventName": "Airbag_deploy",
                  "fuelType": "Gasoline",
                  "id": "bd54b107-7b7d-4481-93a8-e99f347b686b",
                  "index": 64,
                  "region": "Denmark",
                  "s1": 1771.5107486432003,
                  "s2": 726.9063417156722,
                  "s3": 544.725936305116,
                  "timestamp": "2020-04-28T17:22:14.1423439+00:00",
                  "vehicleType": "Wagon",
                  "vin": "8"
                },
                {
                  "date": "2020-04-28",
                  "eventName": "Check_engine_light",
                  "fuelType": "Hybrid",
                  "id": "64af54d3-a0f3-42be-9f73-e9c938015f51",
                  "index": 65,
                  "region": "Lesotho",
                  "s1": 1832.873055149742,
                  "s2": 639.3498445289907,
                  "s3": 737.3160754862781,
                  "timestamp": "2020-04-28T17:22:14.1423997+00:00",
                  "vehicleType": "Minivan",
                  "vin": "8"
                },
                {
                  "date": "2020-04-28",
                  "eventName": "Check_engine_light",
                  "fuelType": "Gasoline",
                  "id": "f2bae2fc-f580-4674-aaf5-eca8eb20f8e0",
                  "index": 66,
                  "region": "Tunisia",
                  "s1": 1872.295992263265,
                  "s2": 681.7368013336029,
                  "s3": 1486.0841364073958,
                  "timestamp": "2020-04-28T17:22:14.1424817+00:00",
                  "vehicleType": "Minivan",
                  "vin": "8"
                },
                {
                  "date": "2020-04-28",
                  "eventName": "Harsh_break",
                  "fuelType": "Gasoline",
                  "id": "156c0417-658b-4e02-9338-78e4d88db99f",
                  "index": 67,
                  "region": "Libyan Arab Jamahiriya",
                  "s1": 1575.8736820690679,
                  "s2": 1557.5985741348,
                  "s3": 352.3264515136026,
                  "timestamp": "2020-04-28T17:22:14.1424899+00:00",
                  "vehicleType": "SUV",
                  "vin": "8"
                },
                {
                  "date": "2020-04-28",
                  "eventName": "Harsh_break",
                  "fuelType": "Electric",
                  "id": "e8cb4596-f984-4abf-a7b9-c72f92b91834",
                  "index": 68,
                  "region": "Norway",
                  "s1": 1900.1018378856136,
                  "s2": 1906.7886578341893,
                  "s3": 966.1275997460483,
                  "timestamp": "2020-04-28T17:22:14.1425641+00:00",
                  "vehicleType": "Cargo Van",
                  "vin": "8"
                },
                {
                  "date": "2020-04-28",
                  "eventName": "Harsh_break",
                  "fuelType": "Gasoline",
                  "id": "09815ee1-818b-427e-a77e-66833facfa7a",
                  "index": 69,
                  "region": "Lesotho",
                  "s1": 1699.7725412914401,
                  "s2": 1424.77744301631,
                  "s3": 1410.6157061451188,
                  "timestamp": "2020-04-28T17:22:14.1426468+00:00",
                  "vehicleType": "Convertible",
                  "vin": "8"
                },
                {
                  "date": "2020-04-28",
                  "eventName": "Airbag_deploy",
                  "fuelType": "Gasoline",
                  "id": "3cd69a9b-a063-4b9e-9936-0ad7f6d7a244",
                  "index": 70,
                  "region": "Oman",
                  "s1": 1991.662089356064,
                  "s2": 1865.418733883844,
                  "s3": 1699.1720008152406,
                  "timestamp": "2020-04-28T17:22:14.1426551+00:00",
                  "vehicleType": "Crew Cab Pickup",
                  "vin": "8"
                },
                {
                  "date": "2020-04-28",
                  "eventName": "Airbag_deploy",
                  "fuelType": "Gasoline",
                  "id": "92d33f71-87a2-494a-a68e-28965a7215c6",
                  "index": 71,
                  "region": "Solomon Islands",
                  "s1": 1664.5169984528409,
                  "s2": 1513.0503379232484,
                  "s3": 1738.5740429836205,
                  "timestamp": "2020-04-28T17:22:14.1426715+00:00",
                  "vehicleType": "Minivan",
                  "vin": "8"
                },
                {
                  "date": "2020-04-28",
                  "eventName": "Check_engine_light",
                  "fuelType": "Diesel",
                  "id": "036cd485-60de-4032-a3d1-8f19f2670461",
                  "index": 72,
                  "region": "Australia",
                  "s1": 1062.1138608134881,
                  "s2": 1153.2908477742649,
                  "s3": 553.3514277457034,
                  "timestamp": "2020-04-28T17:22:14.1426857+00:00",
                  "vehicleType": "Hatchback",
                  "vin": "8"
                },
                {
                  "date": "2020-04-28",
                  "eventName": "Check_engine_light",
                  "fuelType": "Gasoline",
                  "id": "b34c3256-3704-4814-af24-3c26064dd4f6",
                  "index": 73,
                  "region": "Faroe Islands",
                  "s1": 1565.9529209192624,
                  "s2": 1844.563366914896,
                  "s3": 323.13287230307833,
                  "timestamp": "2020-04-28T17:22:28.0798171+00:00",
                  "vehicleType": "Wagon",
                  "vin": "8"
                },
                {
                  "date": "2020-04-28",
                  "eventName": "Airbag_deploy",
                  "fuelType": "Hybrid",
                  "id": "3efc00ee-d0d9-444e-afb7-57f02486f689",
                  "index": 74,
                  "region": "New Zealand",
                  "s1": 1238.782292887467,
                  "s2": 1257.068979750885,
                  "s3": 828.6844000856786,
                  "timestamp": "2020-04-28T17:22:28.0798309+00:00",
                  "vehicleType": "Sedan",
                  "vin": "8"
                },
                {
                  "date": "2020-04-28",
                  "eventName": "Harsh_break",
                  "fuelType": "Electric",
                  "id": "a5211e9a-51cc-4b17-b4a8-9e47158ab3ee",
                  "index": 75,
                  "region": "Guernsey",
                  "s1": 334.4031320933267,
                  "s2": 630.9806254436172,
                  "s3": 1471.8638793546072,
                  "timestamp": "2020-04-28T17:22:28.0799378+00:00",
                  "vehicleType": "Sedan",
                  "vin": "8"
                },
                {
                  "date": "2020-04-28",
                  "eventName": "Harsh_break",
                  "fuelType": "Hybrid",
                  "id": "497ae51b-6fea-4cae-a133-a43e11e4a40a",
                  "index": 76,
                  "region": "Sweden",
                  "s1": 619.7914414288437,
                  "s2": 1159.162415790913,
                  "s3": 1779.2740925114017,
                  "timestamp": "2020-04-28T17:22:28.0801098+00:00",
                  "vehicleType": "Coupe",
                  "vin": "8"
                },
                {
                  "date": "2020-04-28",
                  "eventName": "Harsh_break",
                  "fuelType": "Hybrid",
                  "id": "ffbfa235-20f0-483e-848a-bbd2dacf6932",
                  "index": 77,
                  "region": "Kyrgyz Republic",
                  "s1": 1079.0736809606076,
                  "s2": 1644.0322102755458,
                  "s3": 944.0669741388722,
                  "timestamp": "2020-04-28T17:22:28.0801871+00:00",
                  "vehicleType": "Extended Cab Pickup",
                  "vin": "8"
                },
                {
                  "date": "2020-04-28",
                  "eventName": "Airbag_deploy",
                  "fuelType": "Electric",
                  "id": "4e7804d3-bb30-48de-aaa5-ed9d318621b9",
                  "index": 78,
                  "region": "Cuba",
                  "s1": 1246.5851423230883,
                  "s2": 1507.4559055578222,
                  "s3": 1347.814644852101,
                  "timestamp": "2020-04-28T17:22:28.080196+00:00",
                  "vehicleType": "Wagon",
                  "vin": "8"
                },
                {
                  "date": "2020-04-28",
                  "eventName": "Check_engine_light",
                  "fuelType": "Hybrid",
                  "id": "8f0e066d-b92e-4024-8a13-9df9daddd4dd",
                  "index": 79,
                  "region": "Myanmar",
                  "s1": 1361.517318465988,
                  "s2": 126.12365468550644,
                  "s3": 374.8624825020612,
                  "timestamp": "2020-04-28T17:22:28.0802226+00:00",
                  "vehicleType": "Convertible",
                  "vin": "8"
                },
                {
                  "date": "2020-05-06",
                  "eventName": "Airbag_deploy",
                  "fuelType": "Hybrid",
                  "id": "f52ecba9-6c1e-4b43-8581-6b0ca3122d3c",
                  "index": 80,
                  "region": "Papua New Guinea",
                  "s1": 1917.1698105741152,
                  "s2": 124.60500165755161,
                  "s3": 1181.3155266867557,
                  "timestamp": "2020-05-06T16:50:39.9563386+00:00",
                  "vehicleType": "Wagon",
                  "vin": "8"
                },
                {
                  "date": "2020-05-06",
                  "eventName": "Check_engine_light",
                  "fuelType": "Electric",
                  "id": "a74d8df4-aeaf-467f-be9e-d09fd43c5dac",
                  "index": 81,
                  "region": "Canada",
                  "s1": 750.0434754179062,
                  "s2": 390.57816863366315,
                  "s3": 684.6816481648393,
                  "timestamp": "2020-05-06T16:50:39.9565258+00:00",
                  "vehicleType": "Crew Cab Pickup",
                  "vin": "8"
                },
                {
                  "date": "2020-05-06",
                  "eventName": "Airbag_deploy",
                  "fuelType": "Electric",
                  "id": "2f979712-eb8d-4ff9-88ef-fc2c9de229f4",
                  "index": 82,
                  "region": "Oman",
                  "s1": 1540.9860864896261,
                  "s2": 1734.9006414408332,
                  "s3": 1876.7647505331622,
                  "timestamp": "2020-05-06T16:50:39.9565381+00:00",
                  "vehicleType": "Passenger Van",
                  "vin": "8"
                },
                {
                  "date": "2020-05-06",
                  "eventName": "Airbag_deploy",
                  "fuelType": "Electric",
                  "id": "a36ba4c7-d63b-42ee-9937-791e59d9c7ad",
                  "index": 83,
                  "region": "Serbia",
                  "s1": 699.0169647173104,
                  "s2": 650.1630358883008,
                  "s3": 100.47466503804301,
                  "timestamp": "2020-05-06T16:50:39.9565464+00:00",
                  "vehicleType": "Cargo Van",
                  "vin": "8"
                },
                {
                  "date": "2020-05-06",
                  "eventName": "Check_engine_light",
                  "fuelType": "Diesel",
                  "id": "6f552412-83cb-48a5-bd27-aecd732de260",
                  "index": 84,
                  "region": "Papua New Guinea",
                  "s1": 1728.8501878584968,
                  "s2": 1983.4775634526636,
                  "s3": 725.2774249628546,
                  "timestamp": "2020-05-06T16:50:39.9565725+00:00",
                  "vehicleType": "Sedan",
                  "vin": "8"
                },
                {
                  "date": "2020-05-06",
                  "eventName": "Check_engine_light",
                  "fuelType": "Gasoline",
                  "id": "e00d82b1-26ea-4fa4-92a5-174f331399d7",
                  "index": 85,
                  "region": "Liberia",
                  "s1": 705.2073865994845,
                  "s2": 1369.3280317808164,
                  "s3": 1699.1623199033374,
                  "timestamp": "2020-05-06T16:50:39.956623+00:00",
                  "vehicleType": "Hatchback",
                  "vin": "8"
                },
                {
                  "date": "2020-05-06",
                  "eventName": "Check_engine_light",
                  "fuelType": "Gasoline",
                  "id": "b2921ffe-51ea-47f0-9874-2337576b0920",
                  "index": 86,
                  "region": "Finland",
                  "s1": 598.199064774997,
                  "s2": 1902.9273637542162,
                  "s3": 1485.3667175371045,
                  "timestamp": "2020-05-06T16:50:39.9566779+00:00",
                  "vehicleType": "Passenger Van",
                  "vin": "8"
                },
                {
                  "date": "2020-05-06",
                  "eventName": "Check_engine_light",
                  "fuelType": "Electric",
                  "id": "762a183c-439b-49b2-90ca-fe6d3ad760ab",
                  "index": 87,
                  "region": "Niue",
                  "s1": 1503.680416937303,
                  "s2": 355.5490995587544,
                  "s3": 1580.954760809408,
                  "timestamp": "2020-05-06T16:50:39.9566943+00:00",
                  "vehicleType": "Convertible",
                  "vin": "8"
                },
                {
                  "date": "2020-05-06",
                  "eventName": "Check_engine_light",
                  "fuelType": "Hybrid",
                  "id": "52bfe228-8074-41c0-9de4-b0f33c62c379",
                  "index": 88,
                  "region": "Cameroon",
                  "s1": 1345.8623837800055,
                  "s2": 692.10791292,
                  "s3": 1176.0615031095508,
                  "timestamp": "2020-05-06T16:50:39.9567024+00:00",
                  "vehicleType": "Crew Cab Pickup",
                  "vin": "8"
                },
                {
                  "date": "2020-05-06",
                  "eventName": "Harsh_break",
                  "fuelType": "Diesel",
                  "id": "6e6f15e6-73b4-4fd2-aaa2-d44de1d7b555",
                  "index": 89,
                  "region": "Reunion",
                  "s1": 1846.2726128959434,
                  "s2": 585.5136278730415,
                  "s3": 1617.6719714774154,
                  "timestamp": "2020-05-06T16:50:39.9567608+00:00",
                  "vehicleType": "Crew Cab Pickup",
                  "vin": "8"
                },
                {
                  "date": "2020-05-13",
                  "eventName": "Check_engine_light",
                  "fuelType": "Hybrid",
                  "id": "16f2a8f9-e559-4b85-984b-852fc5812aed",
                  "index": 90,
                  "region": "Iran",
                  "s1": 1976.8230395847108,
                  "s2": 339.80207799086446,
                  "s3": 55.68347610285668,
                  "timestamp": "2020-05-13T03:07:02.0445643+00:00",
                  "vehicleType": "Hatchback",
                  "vin": "8"
                },
                {
                  "date": "2020-05-13",
                  "eventName": "Harsh_break",
                  "fuelType": "Hybrid",
                  "id": "b56f91c6-e826-45d0-a592-d0977c0ec329",
                  "index": 91,
                  "region": "Singapore",
                  "s1": 85.58557519157677,
                  "s2": 798.5344072848253,
                  "s3": 261.1400228711497,
                  "timestamp": "2020-05-13T03:07:02.0445823+00:00",
                  "vehicleType": "Coupe",
                  "vin": "8"
                },
                {
                  "date": "2020-05-13",
                  "eventName": "Airbag_deploy",
                  "fuelType": "Gasoline",
                  "id": "ae8c9855-76be-42e3-b79d-729866326ea1",
                  "index": 92,
                  "region": "Brunei Darussalam",
                  "s1": 1085.3086648249575,
                  "s2": 792.9028812022427,
                  "s3": 1289.93776915918,
                  "timestamp": "2020-05-13T03:07:02.0446528+00:00",
                  "vehicleType": "Minivan",
                  "vin": "8"
                },
                {
                  "date": "2020-05-13",
                  "eventName": "Check_engine_light",
                  "fuelType": "Hybrid",
                  "id": "7c7eadc0-e304-449e-82dc-468fe9efe4d6",
                  "index": 93,
                  "region": "Eritrea",
                  "s1": 78.49223699676443,
                  "s2": 1392.355837269386,
                  "s3": 826.318241864591,
                  "timestamp": "2020-05-13T03:07:02.0447478+00:00",
                  "vehicleType": "SUV",
                  "vin": "8"
                },
                {
                  "date": "2020-05-13",
                  "eventName": "Check_engine_light",
                  "fuelType": "Diesel",
                  "id": "65fa18f9-f62c-46ac-a546-9e3935ca37f1",
                  "index": 94,
                  "region": "Seychelles",
                  "s1": 696.5887779149174,
                  "s2": 207.00587708223884,
                  "s3": 1333.423944174975,
                  "timestamp": "2020-05-13T03:07:02.0447598+00:00",
                  "vehicleType": "SUV",
                  "vin": "8"
                },
                {
                  "date": "2020-05-13",
                  "eventName": "Airbag_deploy",
                  "fuelType": "Electric",
                  "id": "5511eae5-f4e7-49cb-b8eb-3f201636d9f2",
                  "index": 95,
                  "region": "Yemen",
                  "s1": 1594.5051843973365,
                  "s2": 157.73161981382017,
                  "s3": 237.6532676898191,
                  "timestamp": "2020-05-13T03:07:02.0447677+00:00",
                  "vehicleType": "Wagon",
                  "vin": "8"
                },
                {
                  "date": "2020-05-13",
                  "eventName": "Harsh_break",
                  "fuelType": "Electric",
                  "id": "98d70443-a9b1-487c-bd42-6c78b9e3d338",
                  "index": 96,
                  "region": "Thailand",
                  "s1": 1540.4660818918915,
                  "s2": 648.6690310205655,
                  "s3": 1514.7489805131913,
                  "timestamp": "2020-05-13T03:07:02.0447967+00:00",
                  "vehicleType": "Crew Cab Pickup",
                  "vin": "8"
                },
                {
                  "date": "2020-05-13",
                  "eventName": "Harsh_break",
                  "fuelType": "Gasoline",
                  "id": "1952189c-420f-40c7-bae1-98dc5e865f36",
                  "index": 97,
                  "region": "Turkey",
                  "s1": 676.4599000860284,
                  "s2": 670.8969269608599,
                  "s3": 1642.7345761897668,
                  "timestamp": "2020-05-13T03:07:02.0448442+00:00",
                  "vehicleType": "SUV",
                  "vin": "8"
                },
                {
                  "date": "2020-05-13",
                  "eventName": "Airbag_deploy",
                  "fuelType": "Electric",
                  "id": "d3769b64-5877-428e-a5c8-b5534b6b62cd",
                  "index": 98,
                  "region": "Azerbaijan",
                  "s1": 343.8528545116321,
                  "s2": 213.48838138509933,
                  "s3": 962.0247119935344,
                  "timestamp": "2020-05-13T03:07:02.0448654+00:00",
                  "vehicleType": "Cargo Van",
                  "vin": "8"
                },
                {
                  "date": "2020-05-13",
                  "eventName": "Harsh_break",
                  "fuelType": "Gasoline",
                  "id": "ff692667-81ff-4564-b0b9-e3911766e6bd",
                  "index": 99,
                  "region": "Fiji",
                  "s1": 358.0156851396969,
                  "s2": 552.0359314466062,
                  "s3": 996.1831431501466,
                  "timestamp": "2020-05-13T03:07:02.0448851+00:00",
                  "vehicleType": "Convertible",
                  "vin": "8"
                },
                {
                  "date": "2020-05-13",
                  "eventName": "Harsh_break",
                  "fuelType": "Diesel",
                  "id": "e74b4276-9d16-423c-b616-1b7e19e26c9f",
                  "index": 100,
                  "region": "Senegal",
                  "s1": 1968.5688557967399,
                  "s2": 1796.6772239551308,
                  "s3": 878.5760128295868,
                  "timestamp": "2020-05-13T03:07:02.0448929+00:00",
                  "vehicleType": "Sedan",
                  "vin": "8"
                },
                {
                  "date": "2020-05-13",
                  "eventName": "Airbag_deploy",
                  "fuelType": "Diesel",
                  "id": "6f1c3961-71e0-4d35-9464-54c597a11c89",
                  "index": 101,
                  "region": "Saint Martin",
                  "s1": 1075.734262500766,
                  "s2": 363.8188091091899,
                  "s3": 82.79944970356274,
                  "timestamp": "2020-05-13T03:07:02.0449137+00:00",
                  "vehicleType": "Coupe",
                  "vin": "8"
                },
                {
                  "date": "2020-05-13",
                  "eventName": "Check_engine_light",
                  "fuelType": "Diesel",
                  "id": "a6938fc8-2d85-4589-b6e1-7f300bd12bc2",
                  "index": 102,
                  "region": "Algeria",
                  "s1": 1600.6257212658531,
                  "s2": 1057.0977651942976,
                  "s3": 1734.4426049187045,
                  "timestamp": "2020-05-13T03:07:02.0449337+00:00",
                  "vehicleType": "Sedan",
                  "vin": "8"
                },
                {
                  "date": "2020-05-13",
                  "eventName": "Check_engine_light",
                  "fuelType": "Electric",
                  "id": "990b3b36-aca5-49e9-a7e7-677973737180",
                  "index": 103,
                  "region": "Bouvet Island (Bouvetoya)",
                  "s1": 1571.686038863699,
                  "s2": 804.1948569534322,
                  "s3": 856.0146178519421,
                  "timestamp": "2020-05-13T03:07:02.0449496+00:00",
                  "vehicleType": "Crew Cab Pickup",
                  "vin": "8"
                }
              ],
              "schema": {
                "fields": [
                  {
                    "name": "index",
                    "type": "integer"
                  },
                  {
                    "name": "id",
                    "type": "string"
                  },
                  {
                    "name": "vin",
                    "type": "string"
                  },
                  {
                    "name": "eventName",
                    "type": "string"
                  },
                  {
                    "name": "vehicleType",
                    "type": "string"
                  },
                  {
                    "name": "fuelType",
                    "type": "string"
                  },
                  {
                    "name": "s1",
                    "type": "float"
                  },
                  {
                    "name": "s2",
                    "type": "float"
                  },
                  {
                    "name": "s3",
                    "type": "float"
                  },
                  {
                    "name": "timestamp",
                    "type": "date"
                  },
                  {
                    "name": "date",
                    "type": "string"
                  },
                  {
                    "name": "region",
                    "type": "string"
                  }
                ],
                "primaryKey": [
                  "index"
                ]
              }
            },
            "text/plain": [
              "System.Collections.Generic.List`1[Submission#93+TelemetryEvent]"
            ]
          },
          "metadata": {
            "application/vnd.dataresource+json": {
              "size": 6,
              "_root": {
                "ownerID": {},
                "entries": [
                  [
                    "size",
                    6
                  ],
                  [
                    "_root",
                    {
                      "ownerID": {},
                      "entries": [
                        [
                          "size",
                          4
                        ],
                        [
                          "_root",
                          {
                            "ownerID": {},
                            "entries": [
                              [
                                "__altered",
                                false
                              ],
                              [
                                "_root",
                                {
                                  "entries": [
                                    [
                                      "dx",
                                      {
                                        "summaryType": "violin",
                                        "marginalGraphics": "none",
                                        "view": "grid",
                                        "areaType": "hexbin",
                                        "selectedDimensions": [
                                          "vin"
                                        ],
                                        "selectedMetrics": [],
                                        "networkType": "force",
                                        "pieceType": "bar",
                                        "lineType": "line",
                                        "hierarchyType": "dendrogram",
                                        "colors": [
                                          "#DA752E",
                                          "#E5C209",
                                          "#1441A0",
                                          "#B86117",
                                          "#4D430C",
                                          "#1DB390",
                                          "#B3331D",
                                          "#088EB2",
                                          "#417505",
                                          "#E479A8",
                                          "#F9F39E",
                                          "#5782DC",
                                          "#EBA97B",
                                          "#A2AB60",
                                          "#B291CF",
                                          "#8DD2C2",
                                          "#E6A19F",
                                          "#3DC7E0",
                                          "#98CE5B"
                                        ],
                                        "trendLine": "none",
                                        "barGrouping": "Clustered",
                                        "chart": {
                                          "metric1": "none",
                                          "metric2": "none",
                                          "timeseriesSort": "array-order",
                                          "metric3": "none",
                                          "metric4": "none",
                                          "networkLabel": "none",
                                          "dim1": "vin",
                                          "dim2": "eventName",
                                          "dim3": "none"
                                        }
                                      }
                                    ]
                                  ],
                                  "ownerID": {}
                                }
                              ],
                              [
                                "dx",
                                {
                                  "summaryType": "violin",
                                  "marginalGraphics": "none",
                                  "view": "grid",
                                  "areaType": "hexbin",
                                  "selectedDimensions": [
                                    "vin"
                                  ],
                                  "selectedMetrics": [],
                                  "networkType": "force",
                                  "pieceType": "bar",
                                  "lineType": "line",
                                  "hierarchyType": "dendrogram",
                                  "colors": [
                                    "#DA752E",
                                    "#E5C209",
                                    "#1441A0",
                                    "#B86117",
                                    "#4D430C",
                                    "#1DB390",
                                    "#B3331D",
                                    "#088EB2",
                                    "#417505",
                                    "#E479A8",
                                    "#F9F39E",
                                    "#5782DC",
                                    "#EBA97B",
                                    "#A2AB60",
                                    "#B291CF",
                                    "#8DD2C2",
                                    "#E6A19F",
                                    "#3DC7E0",
                                    "#98CE5B"
                                  ],
                                  "trendLine": "none",
                                  "barGrouping": "Clustered",
                                  "chart": {
                                    "metric1": "none",
                                    "metric2": "none",
                                    "timeseriesSort": "array-order",
                                    "metric3": "none",
                                    "metric4": "none",
                                    "networkLabel": "none",
                                    "dim1": "vin",
                                    "dim2": "eventName",
                                    "dim3": "none"
                                  }
                                }
                              ],
                              [
                                "size",
                                1
                              ]
                            ]
                          }
                        ],
                        [
                          "__ownerID",
                          null
                        ],
                        [
                          "__hash",
                          null
                        ],
                        [
                          "__altered",
                          false
                        ],
                        [
                          "dx",
                          {
                            "summaryType": "violin",
                            "marginalGraphics": "none",
                            "view": "grid",
                            "areaType": "hexbin",
                            "selectedDimensions": [
                              "vin"
                            ],
                            "selectedMetrics": [],
                            "networkType": "force",
                            "pieceType": "bar",
                            "lineType": "line",
                            "hierarchyType": "dendrogram",
                            "colors": [
                              "#DA752E",
                              "#E5C209",
                              "#1441A0",
                              "#B86117",
                              "#4D430C",
                              "#1DB390",
                              "#B3331D",
                              "#088EB2",
                              "#417505",
                              "#E479A8",
                              "#F9F39E",
                              "#5782DC",
                              "#EBA97B",
                              "#A2AB60",
                              "#B291CF",
                              "#8DD2C2",
                              "#E6A19F",
                              "#3DC7E0",
                              "#98CE5B"
                            ],
                            "trendLine": "none",
                            "barGrouping": "Clustered",
                            "chart": {
                              "metric1": "none",
                              "metric2": "none",
                              "timeseriesSort": "array-order",
                              "metric3": "none",
                              "metric4": "none",
                              "networkLabel": "none",
                              "dim1": "vin",
                              "dim2": "eventName",
                              "dim3": "none"
                            }
                          }
                        ]
                      ]
                    }
                  ],
                  [
                    "__ownerID",
                    null
                  ],
                  [
                    "__hash",
                    null
                  ],
                  [
                    "__altered",
                    false
                  ],
                  [
                    "dx",
                    {
                      "summaryType": "violin",
                      "marginalGraphics": "none",
                      "view": "grid",
                      "areaType": "hexbin",
                      "selectedDimensions": [
                        "vin"
                      ],
                      "selectedMetrics": [],
                      "networkType": "force",
                      "pieceType": "bar",
                      "lineType": "line",
                      "hierarchyType": "dendrogram",
                      "colors": [
                        "#DA752E",
                        "#E5C209",
                        "#1441A0",
                        "#B86117",
                        "#4D430C",
                        "#1DB390",
                        "#B3331D",
                        "#088EB2",
                        "#417505",
                        "#E479A8",
                        "#F9F39E",
                        "#5782DC",
                        "#EBA97B",
                        "#A2AB60",
                        "#B291CF",
                        "#8DD2C2",
                        "#E6A19F",
                        "#3DC7E0",
                        "#98CE5B"
                      ],
                      "trendLine": "none",
                      "barGrouping": "Clustered",
                      "chart": {
                        "metric1": "none",
                        "metric2": "none",
                        "timeseriesSort": "array-order",
                        "metric3": "none",
                        "metric4": "none",
                        "networkLabel": "none",
                        "dim1": "vin",
                        "dim2": "eventName",
                        "dim3": "none"
                      }
                    }
                  ]
                ]
              },
              "__altered": false,
              "dx": {
                "summaryType": "violin",
                "marginalGraphics": "none",
                "view": "grid",
                "areaType": "hexbin",
                "selectedDimensions": [
                  "vin"
                ],
                "selectedMetrics": [],
                "networkType": "force",
                "pieceType": "bar",
                "lineType": "line",
                "hierarchyType": "dendrogram",
                "colors": [
                  "#DA752E",
                  "#E5C209",
                  "#1441A0",
                  "#B86117",
                  "#4D430C",
                  "#1DB390",
                  "#B3331D",
                  "#088EB2",
                  "#417505",
                  "#E479A8",
                  "#F9F39E",
                  "#5782DC",
                  "#EBA97B",
                  "#A2AB60",
                  "#B291CF",
                  "#8DD2C2",
                  "#E6A19F",
                  "#3DC7E0",
                  "#98CE5B"
                ],
                "trendLine": "none",
                "barGrouping": "Clustered",
                "chart": {
                  "metric1": "none",
                  "metric2": "none",
                  "timeseriesSort": "array-order",
                  "metric3": "none",
                  "metric4": "none",
                  "networkLabel": "none",
                  "dim1": "vin",
                  "dim2": "eventName",
                  "dim3": "none"
                }
              }
            }
          }
        }
      ],
      "execution_count": 26,
      "metadata": {
        "collapsed": true,
        "execution": {
          "iopub.status.busy": "2020-05-14T07:36:39.874Z",
          "iopub.status.idle": "2020-05-14T07:36:40.439Z",
          "shell.execute_reply": "2020-05-14T07:36:40.452Z"
        },
        "jupyter": {
          "outputs_hidden": false,
          "source_hidden": false
        },
        "nteract": {
          "transient": {
            "deleting": false
          }
        },
        "outputExpanded": false,
        "trusted": false
      }
    }
  ],
  "metadata": {
    "kernelspec": {
      "displayName": "CSharp",
      "language": "csharp",
      "name": "csharp"
    },
    "language_info": {
      "codemirror_mode": "text/x-csharp",
      "file_extension": "ipynb",
      "mimetype": "application/json",
      "name": "csharp",
      "version": "7.3"
    },
    "nteract": {
      "version": "dataExplorer 1.0"
    }
  },
  "nbformat": 4,
  "nbformat_minor": 4
}