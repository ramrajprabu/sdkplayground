{
  "cells": [
    {
      "cell_type": "code",
      "source": [
        "!pip3 install Kqlmagic --no-cache-dir  --upgrade"
      ],
      "outputs": [],
      "execution_count": null,
      "metadata": {
        "collapsed": true,
        "jupyter": {
          "source_hidden": false,
          "outputs_hidden": false
        },
        "nteract": {
          "transient": {
            "deleting": false
          }
        },
        "execution": {
          "iopub.status.busy": "2021-11-12T06:13:14.423Z",
          "iopub.execute_input": "2021-11-12T06:13:14.479Z",
          "shell.execute_reply": "2021-11-12T06:13:23.366Z",
          "iopub.status.idle": "2021-11-12T06:13:23.378Z"
        }
      },
      "id": "1a581139-95ea-4ee7-8884-c388b2f8de9b"
    },
    {
      "cell_type": "code",
      "source": [],
      "outputs": [],
      "execution_count": null,
      "metadata": {
        "collapsed": true,
        "jupyter": {
          "source_hidden": false,
          "outputs_hidden": false
        },
        "nteract": {
          "transient": {
            "deleting": false
          }
        }
      },
      "id": "56996d78-98c6-4227-be81-c2d6fd46a7f8"
    }
  ],
  "metadata": {
    "language_info": {
      "name": "python",
      "version": "3.7",
      "mimetype": "application/json",
      "file_extension": "ipynb"
    },
    "nteract": {
      "version": "dataExplorer 1.0"
    }
  },
  "nbformat": 4,
  "nbformat_minor": 5
}